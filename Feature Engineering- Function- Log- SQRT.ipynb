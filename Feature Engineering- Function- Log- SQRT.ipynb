{
 "cells": [
  {
   "cell_type": "code",
   "execution_count": 99,
   "id": "c79d7428",
   "metadata": {},
   "outputs": [],
   "source": [
    "import pandas as pd\n",
    "import numpy as np\n",
    "from sklearn.model_selection import train_test_split\n",
    "from sklearn.model_selection import cross_val_score\n",
    "\n",
    "from sklearn.linear_model import LogisticRegression\n",
    "from sklearn.tree import DecisionTreeClassifier\n",
    "\n",
    "from sklearn.metrics import accuracy_score\n",
    "\n",
    "from sklearn.linear_model import SGDRegressor\n",
    "\n",
    "\n",
    "from scipy.stats import boxcox"
   ]
  },
  {
   "cell_type": "code",
   "execution_count": 2,
   "id": "f8a8e5ab",
   "metadata": {},
   "outputs": [],
   "source": [
    "df = pd.read_csv(\"data.csv\")"
   ]
  },
  {
   "cell_type": "code",
   "execution_count": 3,
   "id": "5bb5bd11",
   "metadata": {},
   "outputs": [
    {
     "name": "stdout",
     "output_type": "stream",
     "text": [
      "<class 'pandas.core.frame.DataFrame'>\n",
      "RangeIndex: 200 entries, 0 to 199\n",
      "Data columns (total 6 columns):\n",
      " #   Column          Non-Null Count  Dtype \n",
      "---  ------          --------------  ----- \n",
      " 0   Id              200 non-null    int64 \n",
      " 1   Area            200 non-null    int64 \n",
      " 2   SaleCondition   200 non-null    object\n",
      " 3   GarageArea      200 non-null    int64 \n",
      " 4   HeatingQuality  200 non-null    object\n",
      " 5   SalePrice       200 non-null    int64 \n",
      "dtypes: int64(4), object(2)\n",
      "memory usage: 9.5+ KB\n"
     ]
    }
   ],
   "source": [
    "df.info()"
   ]
  },
  {
   "cell_type": "code",
   "execution_count": 4,
   "id": "d720af8f",
   "metadata": {},
   "outputs": [
    {
     "data": {
      "text/plain": [
       "Id                200\n",
       "Area              200\n",
       "SaleCondition     200\n",
       "GarageArea        200\n",
       "HeatingQuality    200\n",
       "SalePrice         200\n",
       "dtype: int64"
      ]
     },
     "execution_count": 4,
     "metadata": {},
     "output_type": "execute_result"
    }
   ],
   "source": [
    "df.count()"
   ]
  },
  {
   "cell_type": "code",
   "execution_count": 5,
   "id": "454b4d68",
   "metadata": {},
   "outputs": [
    {
     "data": {
      "text/plain": [
       "Id                0\n",
       "Area              0\n",
       "SaleCondition     0\n",
       "GarageArea        0\n",
       "HeatingQuality    0\n",
       "SalePrice         0\n",
       "dtype: int64"
      ]
     },
     "execution_count": 5,
     "metadata": {},
     "output_type": "execute_result"
    }
   ],
   "source": [
    "df.isnull().sum()"
   ]
  },
  {
   "cell_type": "code",
   "execution_count": 6,
   "id": "bdf06c5b",
   "metadata": {},
   "outputs": [
    {
     "data": {
      "text/html": [
       "<div>\n",
       "<style scoped>\n",
       "    .dataframe tbody tr th:only-of-type {\n",
       "        vertical-align: middle;\n",
       "    }\n",
       "\n",
       "    .dataframe tbody tr th {\n",
       "        vertical-align: top;\n",
       "    }\n",
       "\n",
       "    .dataframe thead th {\n",
       "        text-align: right;\n",
       "    }\n",
       "</style>\n",
       "<table border=\"1\" class=\"dataframe\">\n",
       "  <thead>\n",
       "    <tr style=\"text-align: right;\">\n",
       "      <th></th>\n",
       "      <th>Id</th>\n",
       "      <th>Area</th>\n",
       "      <th>SaleCondition</th>\n",
       "      <th>GarageArea</th>\n",
       "      <th>HeatingQuality</th>\n",
       "      <th>SalePrice</th>\n",
       "    </tr>\n",
       "  </thead>\n",
       "  <tbody>\n",
       "    <tr>\n",
       "      <th>0</th>\n",
       "      <td>1</td>\n",
       "      <td>8450</td>\n",
       "      <td>Normal</td>\n",
       "      <td>548</td>\n",
       "      <td>Ex</td>\n",
       "      <td>208500</td>\n",
       "    </tr>\n",
       "    <tr>\n",
       "      <th>1</th>\n",
       "      <td>2</td>\n",
       "      <td>9600</td>\n",
       "      <td>Normal</td>\n",
       "      <td>460</td>\n",
       "      <td>Ex</td>\n",
       "      <td>181500</td>\n",
       "    </tr>\n",
       "    <tr>\n",
       "      <th>2</th>\n",
       "      <td>3</td>\n",
       "      <td>11250</td>\n",
       "      <td>Normal</td>\n",
       "      <td>608</td>\n",
       "      <td>Ex</td>\n",
       "      <td>223500</td>\n",
       "    </tr>\n",
       "    <tr>\n",
       "      <th>3</th>\n",
       "      <td>4</td>\n",
       "      <td>9550</td>\n",
       "      <td>NotNormal</td>\n",
       "      <td>642</td>\n",
       "      <td>Gd</td>\n",
       "      <td>140000</td>\n",
       "    </tr>\n",
       "    <tr>\n",
       "      <th>4</th>\n",
       "      <td>5</td>\n",
       "      <td>14260</td>\n",
       "      <td>Normal</td>\n",
       "      <td>836</td>\n",
       "      <td>Ex</td>\n",
       "      <td>250000</td>\n",
       "    </tr>\n",
       "  </tbody>\n",
       "</table>\n",
       "</div>"
      ],
      "text/plain": [
       "   Id   Area SaleCondition  GarageArea HeatingQuality  SalePrice\n",
       "0   1   8450        Normal         548             Ex     208500\n",
       "1   2   9600        Normal         460             Ex     181500\n",
       "2   3  11250        Normal         608             Ex     223500\n",
       "3   4   9550     NotNormal         642             Gd     140000\n",
       "4   5  14260        Normal         836             Ex     250000"
      ]
     },
     "execution_count": 6,
     "metadata": {},
     "output_type": "execute_result"
    }
   ],
   "source": [
    "df.head()"
   ]
  },
  {
   "cell_type": "markdown",
   "id": "d148d8db",
   "metadata": {},
   "source": [
    "#  We will use fields Area and Garage Area and transform it using Function FE."
   ]
  },
  {
   "cell_type": "code",
   "execution_count": 11,
   "id": "ba2dded9",
   "metadata": {},
   "outputs": [],
   "source": [
    "columns_to_drop = [\"SaleCondition\", \"HeatingQuality\", \"Id\"]\n",
    "df_new = df.drop(columns_to_drop, axis=1)"
   ]
  },
  {
   "cell_type": "code",
   "execution_count": 12,
   "id": "7ded1ca7",
   "metadata": {},
   "outputs": [
    {
     "data": {
      "text/html": [
       "<div>\n",
       "<style scoped>\n",
       "    .dataframe tbody tr th:only-of-type {\n",
       "        vertical-align: middle;\n",
       "    }\n",
       "\n",
       "    .dataframe tbody tr th {\n",
       "        vertical-align: top;\n",
       "    }\n",
       "\n",
       "    .dataframe thead th {\n",
       "        text-align: right;\n",
       "    }\n",
       "</style>\n",
       "<table border=\"1\" class=\"dataframe\">\n",
       "  <thead>\n",
       "    <tr style=\"text-align: right;\">\n",
       "      <th></th>\n",
       "      <th>Area</th>\n",
       "      <th>GarageArea</th>\n",
       "      <th>SalePrice</th>\n",
       "    </tr>\n",
       "  </thead>\n",
       "  <tbody>\n",
       "    <tr>\n",
       "      <th>0</th>\n",
       "      <td>8450</td>\n",
       "      <td>548</td>\n",
       "      <td>208500</td>\n",
       "    </tr>\n",
       "    <tr>\n",
       "      <th>1</th>\n",
       "      <td>9600</td>\n",
       "      <td>460</td>\n",
       "      <td>181500</td>\n",
       "    </tr>\n",
       "    <tr>\n",
       "      <th>2</th>\n",
       "      <td>11250</td>\n",
       "      <td>608</td>\n",
       "      <td>223500</td>\n",
       "    </tr>\n",
       "    <tr>\n",
       "      <th>3</th>\n",
       "      <td>9550</td>\n",
       "      <td>642</td>\n",
       "      <td>140000</td>\n",
       "    </tr>\n",
       "    <tr>\n",
       "      <th>4</th>\n",
       "      <td>14260</td>\n",
       "      <td>836</td>\n",
       "      <td>250000</td>\n",
       "    </tr>\n",
       "  </tbody>\n",
       "</table>\n",
       "</div>"
      ],
      "text/plain": [
       "    Area  GarageArea  SalePrice\n",
       "0   8450         548     208500\n",
       "1   9600         460     181500\n",
       "2  11250         608     223500\n",
       "3   9550         642     140000\n",
       "4  14260         836     250000"
      ]
     },
     "execution_count": 12,
     "metadata": {},
     "output_type": "execute_result"
    }
   ],
   "source": [
    "df_new.head()"
   ]
  },
  {
   "cell_type": "code",
   "execution_count": 77,
   "id": "acf0a856",
   "metadata": {},
   "outputs": [
    {
     "data": {
      "text/plain": [
       "Area          3.478234\n",
       "GarageArea   -0.175002\n",
       "SalePrice     1.383253\n",
       "dtype: float64"
      ]
     },
     "execution_count": 77,
     "metadata": {},
     "output_type": "execute_result"
    }
   ],
   "source": [
    "df_new.skew(axis = 0, skipna = True)"
   ]
  },
  {
   "cell_type": "markdown",
   "id": "54af8ced",
   "metadata": {},
   "source": [
    "#### looks like Area has the most amont of Skewness. Lets draw this."
   ]
  },
  {
   "cell_type": "code",
   "execution_count": 79,
   "id": "a072761e",
   "metadata": {},
   "outputs": [],
   "source": [
    "import seaborn as sns"
   ]
  },
  {
   "cell_type": "code",
   "execution_count": 80,
   "id": "fa4dd25b",
   "metadata": {},
   "outputs": [
    {
     "data": {
      "text/plain": [
       "<AxesSubplot:xlabel='Area', ylabel='Count'>"
      ]
     },
     "execution_count": 80,
     "metadata": {},
     "output_type": "execute_result"
    },
    {
     "data": {
      "image/png": "[encoded data removed]",
      "text/plain": [
       "<Figure size 432x288 with 1 Axes>"
      ]
     },
     "metadata": {
      "needs_background": "light"
     },
     "output_type": "display_data"
    }
   ],
   "source": [
    "# Plot histogram\n",
    "sns.histplot(data = df_new, x = \"Area\", kde = True)"
   ]
  },
  {
   "cell_type": "markdown",
   "id": "614e5c7c",
   "metadata": {},
   "source": [
    "# What is skewness?\n",
    "Skewness is an asymmetry in the distribution of data as it does not show any kind of symmetry in continuous data. Skewed data can be of 2 types. Right-Skewed data is also called as Positively-Skewed data and, Left-Skewed data is called as Negatively-Skewed data.\n",
    "\n",
    "________Let us fix this.________"
   ]
  },
  {
   "cell_type": "markdown",
   "id": "6ced49e5",
   "metadata": {},
   "source": [
    "# Log Transform\n",
    "Log transformation is most likely the first thing you should do to remove skewness from the predictor.\n",
    "#### Simple way of implementing log analysis with Numpy"
   ]
  },
  {
   "cell_type": "code",
   "execution_count": 81,
   "id": "3802e80a",
   "metadata": {},
   "outputs": [],
   "source": [
    "area_log = np.log(df_new['Area'])"
   ]
  },
  {
   "cell_type": "code",
   "execution_count": 83,
   "id": "a974d68f",
   "metadata": {},
   "outputs": [
    {
     "data": {
      "text/plain": [
       "-0.5997896646818068"
      ]
     },
     "execution_count": 83,
     "metadata": {},
     "output_type": "execute_result"
    }
   ],
   "source": [
    "area_log.skew(axis = 0, skipna = True)"
   ]
  },
  {
   "cell_type": "code",
   "execution_count": 84,
   "id": "00ccaf90",
   "metadata": {},
   "outputs": [],
   "source": [
    "# Skewness reduced from 3.478234 to -0.5997896646818068"
   ]
  },
  {
   "cell_type": "code",
   "execution_count": 87,
   "id": "a52dfae3",
   "metadata": {},
   "outputs": [],
   "source": [
    "df_new['area_log'] = area_log"
   ]
  },
  {
   "cell_type": "code",
   "execution_count": 89,
   "id": "4fc61105",
   "metadata": {},
   "outputs": [
    {
     "data": {
      "text/html": [
       "<div>\n",
       "<style scoped>\n",
       "    .dataframe tbody tr th:only-of-type {\n",
       "        vertical-align: middle;\n",
       "    }\n",
       "\n",
       "    .dataframe tbody tr th {\n",
       "        vertical-align: top;\n",
       "    }\n",
       "\n",
       "    .dataframe thead th {\n",
       "        text-align: right;\n",
       "    }\n",
       "</style>\n",
       "<table border=\"1\" class=\"dataframe\">\n",
       "  <thead>\n",
       "    <tr style=\"text-align: right;\">\n",
       "      <th></th>\n",
       "      <th>Area</th>\n",
       "      <th>GarageArea</th>\n",
       "      <th>SalePrice</th>\n",
       "      <th>area_log</th>\n",
       "    </tr>\n",
       "  </thead>\n",
       "  <tbody>\n",
       "    <tr>\n",
       "      <th>0</th>\n",
       "      <td>8450</td>\n",
       "      <td>548</td>\n",
       "      <td>208500</td>\n",
       "      <td>9.041922</td>\n",
       "    </tr>\n",
       "    <tr>\n",
       "      <th>1</th>\n",
       "      <td>9600</td>\n",
       "      <td>460</td>\n",
       "      <td>181500</td>\n",
       "      <td>9.169518</td>\n",
       "    </tr>\n",
       "    <tr>\n",
       "      <th>2</th>\n",
       "      <td>11250</td>\n",
       "      <td>608</td>\n",
       "      <td>223500</td>\n",
       "      <td>9.328123</td>\n",
       "    </tr>\n",
       "    <tr>\n",
       "      <th>3</th>\n",
       "      <td>9550</td>\n",
       "      <td>642</td>\n",
       "      <td>140000</td>\n",
       "      <td>9.164296</td>\n",
       "    </tr>\n",
       "    <tr>\n",
       "      <th>4</th>\n",
       "      <td>14260</td>\n",
       "      <td>836</td>\n",
       "      <td>250000</td>\n",
       "      <td>9.565214</td>\n",
       "    </tr>\n",
       "  </tbody>\n",
       "</table>\n",
       "</div>"
      ],
      "text/plain": [
       "    Area  GarageArea  SalePrice  area_log\n",
       "0   8450         548     208500  9.041922\n",
       "1   9600         460     181500  9.169518\n",
       "2  11250         608     223500  9.328123\n",
       "3   9550         642     140000  9.164296\n",
       "4  14260         836     250000  9.565214"
      ]
     },
     "execution_count": 89,
     "metadata": {},
     "output_type": "execute_result"
    }
   ],
   "source": [
    "df_new.head()"
   ]
  },
  {
   "cell_type": "code",
   "execution_count": 88,
   "id": "8b2d98f0",
   "metadata": {},
   "outputs": [
    {
     "data": {
      "text/plain": [
       "<AxesSubplot:xlabel='area_log', ylabel='Count'>"
      ]
     },
     "execution_count": 88,
     "metadata": {},
     "output_type": "execute_result"
    },
    {
     "data": {
      "image/png": "[encoded data removed]",
      "text/plain": [
       "<Figure size 432x288 with 1 Axes>"
      ]
     },
     "metadata": {
      "needs_background": "light"
     },
     "output_type": "display_data"
    }
   ],
   "source": [
    "# Plot histogram\n",
    "sns.histplot(data = df_new, x = \"area_log\", kde = True)"
   ]
  },
  {
   "cell_type": "markdown",
   "id": "ae665ccb",
   "metadata": {},
   "source": [
    "## Let us test what we have built"
   ]
  },
  {
   "cell_type": "markdown",
   "id": "9f99ca67",
   "metadata": {},
   "source": [
    "#### Step 1: Split train test, calculate logistic transformation, and then find out cross val percentage"
   ]
  },
  {
   "cell_type": "code",
   "execution_count": 15,
   "id": "da01963c",
   "metadata": {},
   "outputs": [],
   "source": [
    "x = df[['Area', 'GarageArea']]\n",
    "y = df['SalePrice']"
   ]
  },
  {
   "cell_type": "code",
   "execution_count": 16,
   "id": "9c97c274",
   "metadata": {},
   "outputs": [],
   "source": [
    "x_train, x_test, y_train, y_test = train_test_split(x, y, test_size=0.2)"
   ]
  },
  {
   "cell_type": "code",
   "execution_count": 17,
   "id": "f3026e9f",
   "metadata": {},
   "outputs": [
    {
     "data": {
      "text/html": [
       "<div>\n",
       "<style scoped>\n",
       "    .dataframe tbody tr th:only-of-type {\n",
       "        vertical-align: middle;\n",
       "    }\n",
       "\n",
       "    .dataframe tbody tr th {\n",
       "        vertical-align: top;\n",
       "    }\n",
       "\n",
       "    .dataframe thead th {\n",
       "        text-align: right;\n",
       "    }\n",
       "</style>\n",
       "<table border=\"1\" class=\"dataframe\">\n",
       "  <thead>\n",
       "    <tr style=\"text-align: right;\">\n",
       "      <th></th>\n",
       "      <th>Area</th>\n",
       "      <th>GarageArea</th>\n",
       "    </tr>\n",
       "  </thead>\n",
       "  <tbody>\n",
       "    <tr>\n",
       "      <th>39</th>\n",
       "      <td>6040</td>\n",
       "      <td>0</td>\n",
       "    </tr>\n",
       "    <tr>\n",
       "      <th>78</th>\n",
       "      <td>10778</td>\n",
       "      <td>156</td>\n",
       "    </tr>\n",
       "    <tr>\n",
       "      <th>101</th>\n",
       "      <td>9206</td>\n",
       "      <td>476</td>\n",
       "    </tr>\n",
       "    <tr>\n",
       "      <th>134</th>\n",
       "      <td>10335</td>\n",
       "      <td>440</td>\n",
       "    </tr>\n",
       "    <tr>\n",
       "      <th>140</th>\n",
       "      <td>10500</td>\n",
       "      <td>0</td>\n",
       "    </tr>\n",
       "  </tbody>\n",
       "</table>\n",
       "</div>"
      ],
      "text/plain": [
       "      Area  GarageArea\n",
       "39    6040           0\n",
       "78   10778         156\n",
       "101   9206         476\n",
       "134  10335         440\n",
       "140  10500           0"
      ]
     },
     "execution_count": 17,
     "metadata": {},
     "output_type": "execute_result"
    }
   ],
   "source": [
    "x_train.head()"
   ]
  },
  {
   "cell_type": "code",
   "execution_count": 41,
   "id": "d17054bb",
   "metadata": {},
   "outputs": [],
   "source": [
    "logreg = SGDRegressor(penalty='l2', alpha=0.001)"
   ]
  },
  {
   "cell_type": "code",
   "execution_count": 53,
   "id": "bd410152",
   "metadata": {},
   "outputs": [
    {
     "data": {
      "text/plain": [
       "SGDRegressor(alpha=0.001)"
      ]
     },
     "execution_count": 53,
     "metadata": {},
     "output_type": "execute_result"
    }
   ],
   "source": [
    "logreg.fit(x_train, y_train)"
   ]
  },
  {
   "cell_type": "code",
   "execution_count": 28,
   "id": "b79e5c90",
   "metadata": {},
   "outputs": [],
   "source": [
    "# Predict on the test set\n",
    "y_pred = logreg.predict(x_test)"
   ]
  },
  {
   "cell_type": "code",
   "execution_count": 58,
   "id": "100f1b13",
   "metadata": {},
   "outputs": [],
   "source": [
    "# # Calculate accuracy on the test set\n",
    "# accuracy = accuracy_score(y_test, y_pred)\n",
    "# print(\"Accuracy:\", accuracy)"
   ]
  },
  {
   "cell_type": "code",
   "execution_count": 56,
   "id": "687821e0",
   "metadata": {},
   "outputs": [
    {
     "name": "stdout",
     "output_type": "stream",
     "text": [
      "Cross-validation scores: [-7.04841447e+24 -1.18160312e+23 -2.55280673e+24 -1.33054438e+24\n",
      " -2.34576082e+22]\n"
     ]
    }
   ],
   "source": [
    "# Perform cross-validation\n",
    "cv_scores = cross_val_score(logreg, x, y, cv=5)\n",
    "print(\"Cross-validation scores:\", cv_scores)"
   ]
  },
  {
   "cell_type": "markdown",
   "id": "daaf4bf8",
   "metadata": {},
   "source": [
    "#### Step 2: Implement Function transformation"
   ]
  },
  {
   "cell_type": "code",
   "execution_count": 59,
   "id": "5dd79e3b",
   "metadata": {},
   "outputs": [],
   "source": [
    "from sklearn.preprocessing import FunctionTransformer\n",
    "transformer = FunctionTransformer(np.log1p)"
   ]
  },
  {
   "cell_type": "code",
   "execution_count": 60,
   "id": "57a46e0a",
   "metadata": {},
   "outputs": [],
   "source": [
    "x = df[['Area', 'GarageArea']]\n",
    "y = df['SalePrice']"
   ]
  },
  {
   "cell_type": "code",
   "execution_count": 64,
   "id": "b76667d9",
   "metadata": {},
   "outputs": [],
   "source": [
    "x = transformer.transform(x)"
   ]
  },
  {
   "cell_type": "code",
   "execution_count": 65,
   "id": "c78f6b45",
   "metadata": {},
   "outputs": [],
   "source": [
    "y = transformer.transform(y)"
   ]
  },
  {
   "cell_type": "code",
   "execution_count": 66,
   "id": "e05f16e2",
   "metadata": {},
   "outputs": [
    {
     "data": {
      "text/html": [
       "<div>\n",
       "<style scoped>\n",
       "    .dataframe tbody tr th:only-of-type {\n",
       "        vertical-align: middle;\n",
       "    }\n",
       "\n",
       "    .dataframe tbody tr th {\n",
       "        vertical-align: top;\n",
       "    }\n",
       "\n",
       "    .dataframe thead th {\n",
       "        text-align: right;\n",
       "    }\n",
       "</style>\n",
       "<table border=\"1\" class=\"dataframe\">\n",
       "  <thead>\n",
       "    <tr style=\"text-align: right;\">\n",
       "      <th></th>\n",
       "      <th>Area</th>\n",
       "      <th>GarageArea</th>\n",
       "    </tr>\n",
       "  </thead>\n",
       "  <tbody>\n",
       "    <tr>\n",
       "      <th>0</th>\n",
       "      <td>9.042040</td>\n",
       "      <td>6.308098</td>\n",
       "    </tr>\n",
       "    <tr>\n",
       "      <th>1</th>\n",
       "      <td>9.169623</td>\n",
       "      <td>6.133398</td>\n",
       "    </tr>\n",
       "    <tr>\n",
       "      <th>2</th>\n",
       "      <td>9.328212</td>\n",
       "      <td>6.411818</td>\n",
       "    </tr>\n",
       "    <tr>\n",
       "      <th>3</th>\n",
       "      <td>9.164401</td>\n",
       "      <td>6.466145</td>\n",
       "    </tr>\n",
       "    <tr>\n",
       "      <th>4</th>\n",
       "      <td>9.565284</td>\n",
       "      <td>6.729824</td>\n",
       "    </tr>\n",
       "  </tbody>\n",
       "</table>\n",
       "</div>"
      ],
      "text/plain": [
       "       Area  GarageArea\n",
       "0  9.042040    6.308098\n",
       "1  9.169623    6.133398\n",
       "2  9.328212    6.411818\n",
       "3  9.164401    6.466145\n",
       "4  9.565284    6.729824"
      ]
     },
     "execution_count": 66,
     "metadata": {},
     "output_type": "execute_result"
    }
   ],
   "source": [
    "x.head()"
   ]
  },
  {
   "cell_type": "code",
   "execution_count": 67,
   "id": "64545952",
   "metadata": {},
   "outputs": [],
   "source": [
    "x_train, x_test, y_train, y_test = train_test_split(x, y, test_size=0.2)"
   ]
  },
  {
   "cell_type": "code",
   "execution_count": 68,
   "id": "60a071f6",
   "metadata": {},
   "outputs": [],
   "source": [
    "logreg = SGDRegressor(penalty='l2', alpha=0.001)"
   ]
  },
  {
   "cell_type": "code",
   "execution_count": 70,
   "id": "3ad0699a",
   "metadata": {},
   "outputs": [
    {
     "data": {
      "text/plain": [
       "SGDRegressor(alpha=0.001)"
      ]
     },
     "execution_count": 70,
     "metadata": {},
     "output_type": "execute_result"
    }
   ],
   "source": [
    "logreg.fit(x_train, y_train)"
   ]
  },
  {
   "cell_type": "code",
   "execution_count": 74,
   "id": "0e18fc0c",
   "metadata": {},
   "outputs": [
    {
     "data": {
      "text/plain": [
       "array([12.65765462, 10.36363389, 12.12542086, 11.86972856, 12.36284671,\n",
       "       14.31238354, 12.31277917, 11.84751827, 12.24955847, 12.17233441,\n",
       "       12.64253104, 12.77877358, 12.62916495, 11.81968677, 12.03162109,\n",
       "       12.72050473, 11.32215075, 12.26330802, 12.17265056, 12.71889432,\n",
       "       11.82554925, 11.59175894, 12.1287007 , 11.83177347, 12.48754217,\n",
       "       11.78459391, 11.6086197 , 12.03590278, 12.2432819 , 11.91152627,\n",
       "       12.0302411 ,  9.88731353, 12.86546616, 11.79356315, 12.81619591,\n",
       "       11.36392937, 12.02649735, 12.36130937, 12.64861738, 12.63154902])"
      ]
     },
     "execution_count": 74,
     "metadata": {},
     "output_type": "execute_result"
    }
   ],
   "source": [
    "# Predict on the test set\n",
    "logreg.predict(x_test)"
   ]
  },
  {
   "cell_type": "code",
   "execution_count": 75,
   "id": "bf4622e9",
   "metadata": {},
   "outputs": [
    {
     "name": "stdout",
     "output_type": "stream",
     "text": [
      "Cross-validation scores: [-1.90018721 -0.09277305 -9.35713455 -0.81353393 -1.0644555 ]\n"
     ]
    }
   ],
   "source": [
    "# Perform cross-validation\n",
    "cv_scores = cross_val_score(logreg, x_test, y_test, cv=5)\n",
    "print(\"Cross-validation scores:\", cv_scores)"
   ]
  },
  {
   "cell_type": "code",
   "execution_count": 76,
   "id": "c5f9a99c",
   "metadata": {},
   "outputs": [
    {
     "name": "stdout",
     "output_type": "stream",
     "text": [
      "[-2.69992392e-05 -1.35981283e-01 -1.03255371e-01]\n"
     ]
    }
   ],
   "source": [
    "from sklearn import datasets, linear_model\n",
    "from sklearn.model_selection import cross_val_score\n",
    "\n",
    "lasso = linear_model.Lasso()\n",
    "print(cross_val_score(lasso, x, y, cv=3))"
   ]
  },
  {
   "cell_type": "markdown",
   "id": "b925961a",
   "metadata": {},
   "source": [
    "# Square Root Transform\n",
    "\n",
    "#### Simple way of implementing Sqrt Transform with Numpy"
   ]
  },
  {
   "cell_type": "code",
   "execution_count": 90,
   "id": "62f5a086",
   "metadata": {},
   "outputs": [],
   "source": [
    "GarageArea_sqrt = np.sqrt(df_new['GarageArea'])"
   ]
  },
  {
   "cell_type": "code",
   "execution_count": 91,
   "id": "9696c3cc",
   "metadata": {},
   "outputs": [
    {
     "data": {
      "text/plain": [
       "-1.7362733563966053"
      ]
     },
     "execution_count": 91,
     "metadata": {},
     "output_type": "execute_result"
    }
   ],
   "source": [
    "GarageArea_sqrt.skew()"
   ]
  },
  {
   "cell_type": "code",
   "execution_count": 95,
   "id": "2c0c0c40",
   "metadata": {},
   "outputs": [],
   "source": [
    "# Skewness increased from -0.175002 to -1.7362733563966053\n",
    "# so this is not the best approach\n",
    "# but still let us try implementing to learn how to"
   ]
  },
  {
   "cell_type": "code",
   "execution_count": 96,
   "id": "37c80b48",
   "metadata": {},
   "outputs": [
    {
     "data": {
      "text/plain": [
       "<AxesSubplot:xlabel='GarageArea', ylabel='Count'>"
      ]
     },
     "execution_count": 96,
     "metadata": {},
     "output_type": "execute_result"
    },
    {
     "data": {
      "image/png": "[encoded data removed]",
      "text/plain": [
       "<Figure size 432x288 with 1 Axes>"
      ]
     },
     "metadata": {
      "needs_background": "light"
     },
     "output_type": "display_data"
    }
   ],
   "source": [
    "sns.histplot(data = df_new, x = \"GarageArea\", kde = True)"
   ]
  },
  {
   "cell_type": "code",
   "execution_count": 97,
   "id": "79bd38d3",
   "metadata": {},
   "outputs": [],
   "source": [
    "df_new['GarageArea_sqrt'] = GarageArea_sqrt"
   ]
  },
  {
   "cell_type": "code",
   "execution_count": 98,
   "id": "a5a4b9ca",
   "metadata": {},
   "outputs": [
    {
     "data": {
      "text/plain": [
       "<AxesSubplot:xlabel='GarageArea_sqrt', ylabel='Count'>"
      ]
     },
     "execution_count": 98,
     "metadata": {},
     "output_type": "execute_result"
    },
    {
     "data": {
      "image/png": "[encoded data removed]",
      "text/plain": [
       "<Figure size 432x288 with 1 Axes>"
      ]
     },
     "metadata": {
      "needs_background": "light"
     },
     "output_type": "display_data"
    }
   ],
   "source": [
    "sns.histplot(data = df_new, x = \"GarageArea_sqrt\", kde = True)"
   ]
  },
  {
   "cell_type": "markdown",
   "id": "378dfe58",
   "metadata": {},
   "source": [
    "# Box-Cox Transform"
   ]
  },
  {
   "cell_type": "code",
   "execution_count": 100,
   "id": "88239c0b",
   "metadata": {},
   "outputs": [],
   "source": [
    "import scipy.stats"
   ]
  },
  {
   "cell_type": "code",
   "execution_count": 105,
   "id": "be820f53",
   "metadata": {},
   "outputs": [],
   "source": [
    "df_new['Area_BoxCox'], _ =  scipy.stats.boxcox(df_new['Area'])"
   ]
  },
  {
   "cell_type": "code",
   "execution_count": 106,
   "id": "4f704ddb",
   "metadata": {},
   "outputs": [
    {
     "data": {
      "text/plain": [
       "0    27.388654\n",
       "1    28.269679\n",
       "2    29.398593\n",
       "3    28.233153\n",
       "4    31.158604\n",
       "Name: Area_BoxCox, dtype: float64"
      ]
     },
     "execution_count": 106,
     "metadata": {},
     "output_type": "execute_result"
    }
   ],
   "source": [
    "df_new['Area_BoxCox'].head()"
   ]
  },
  {
   "cell_type": "code",
   "execution_count": 108,
   "id": "26eac5fd",
   "metadata": {},
   "outputs": [
    {
     "data": {
      "text/plain": [
       "0.09654218179323158"
      ]
     },
     "execution_count": 108,
     "metadata": {},
     "output_type": "execute_result"
    }
   ],
   "source": [
    "df_new['Area_BoxCox'].skew()"
   ]
  },
  {
   "cell_type": "code",
   "execution_count": 109,
   "id": "ed032bf9",
   "metadata": {},
   "outputs": [],
   "source": [
    "# Skewness reduced from 3.478234 to 0.09654218179323158\n",
    "# for log transform it was -0.5997896646818068"
   ]
  },
  {
   "cell_type": "markdown",
   "id": "227f13ae",
   "metadata": {},
   "source": [
    "# Note \n",
    "Box-Cox transform assumes positive data values, so it is recommended to ensure that your data meets this requirement before applying the transform."
   ]
  },
  {
   "cell_type": "code",
   "execution_count": null,
   "id": "d8cb5203",
   "metadata": {},
   "outputs": [],
   "source": []
  }
 ],
 "metadata": {
  "kernelspec": {
   "display_name": "Python 3 (ipykernel)",
   "language": "python",
   "name": "python3"
  },
  "language_info": {
   "codemirror_mode": {
    "name": "ipython",
    "version": 3
   },
   "file_extension": ".py",
   "mimetype": "text/x-python",
   "name": "python",
   "nbconvert_exporter": "python",
   "pygments_lexer": "ipython3",
   "version": "3.9.12"
  }
 },
 "nbformat": 4,
 "nbformat_minor": 5
}
