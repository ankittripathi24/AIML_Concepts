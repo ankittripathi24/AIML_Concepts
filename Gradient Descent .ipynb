{
 "cells": [
  {
   "cell_type": "code",
   "execution_count": 1,
   "id": "44aca830",
   "metadata": {},
   "outputs": [],
   "source": [
    "import pandas as pd\n",
    "import seaborn as sns\n",
    "import numpy as np\n",
    "import matplotlib.pyplot as plt\n",
    "\n",
    "%matplotlib inline"
   ]
  },
  {
   "cell_type": "code",
   "execution_count": 25,
   "id": "1cbdf8d7",
   "metadata": {},
   "outputs": [],
   "source": [
    "# Load the dataset\n",
    "data = pd.read_csv('ford.csv')  # Replace 'your_dataset.csv' with the actual dataset filename\n",
    "\n",
    "# Select the relevant columns for the model\n",
    "selected_columns = ['year', 'transmission', 'mileage', 'fuelType', 'tax', 'mpg', 'engineSize']\n",
    "data = data[selected_columns + ['price']]\n",
    "\n",
    "# Perform one-hot encoding for categorical variables\n",
    "data_encoded = pd.get_dummies(data, columns=['transmission', 'fuelType'], drop_first=True)\n",
    "\n",
    "# Split the dataset into features (X) and target variable (y)\n",
    "X = data_encoded.drop('price', axis=1)\n",
    "y = data_encoded['price']\n",
    "\n",
    "# Normalize the features\n",
    "X = (X - X.mean()) / X.std()\n",
    "\n",
    "# Add a column of ones as the bias term\n",
    "X = np.column_stack((np.ones(len(X)), X))\n",
    "\n",
    "# Initialize model parameters\n",
    "theta = np.zeros(X.shape[1])\n"
   ]
  },
  {
   "cell_type": "code",
   "execution_count": 26,
   "id": "d33c497d",
   "metadata": {},
   "outputs": [
    {
     "name": "stdout",
     "output_type": "stream",
     "text": [
      "Learned Parameters:\n",
      "[11862.55127139  2824.76607459 -2561.66824758   376.59145716\n",
      " -1608.51136138   799.23806461   455.61479736   375.467141\n",
      "    84.50460403   321.95284241    40.56822159 -1405.65438025]\n"
     ]
    },
    {
     "data": {
      "image/png": "[encoded data removed]",
      "text/plain": [
       "<Figure size 432x288 with 1 Axes>"
      ]
     },
     "metadata": {
      "needs_background": "light"
     },
     "output_type": "display_data"
    }
   ],
   "source": [
    "\n",
    "\n",
    "\n",
    "\n",
    "# Define hyperparameters\n",
    "learning_rate = 0.01\n",
    "num_iterations = 1000\n",
    "\n",
    "# Gradient descent\n",
    "num_samples = len(X)\n",
    "cost_history = []\n",
    "for i in range(num_iterations):\n",
    "    # Calculate predictions\n",
    "    predictions = np.dot(X, theta)\n",
    "    \n",
    "    # Calculate the difference between predictions and actual values\n",
    "    error = predictions - y\n",
    "    \n",
    "    # Update parameters using gradient descent\n",
    "    theta -= (learning_rate / num_samples) * np.dot(X.T, error)\n",
    "    \n",
    "    # Calculate the cost function (Mean Squared Error)\n",
    "    cost = np.sum(error ** 2) / (2 * num_samples)\n",
    "    cost_history.append(cost)\n",
    "\n",
    "# Print the learned parameters\n",
    "print(\"Learned Parameters:\")\n",
    "print(theta)\n",
    "\n",
    "# Plot the cost function over iterations\n",
    "import matplotlib.pyplot as plt\n",
    "plt.plot(range(num_iterations), cost_history)\n",
    "plt.xlabel(\"Iteration\")\n",
    "plt.ylabel(\"Cost\")\n",
    "plt.title(\"Cost Function over Iterations\")\n",
    "plt.show()\n"
   ]
  },
  {
   "cell_type": "markdown",
   "id": "bdae904e",
   "metadata": {},
   "source": [
    "Observations:\n",
    "with normal gradient descent my learning parameters shows:"
   ]
  }
 ],
 "metadata": {
  "kernelspec": {
   "display_name": "Python 3 (ipykernel)",
   "language": "python",
   "name": "python3"
  },
  "language_info": {
   "codemirror_mode": {
    "name": "ipython",
    "version": 3
   },
   "file_extension": ".py",
   "mimetype": "text/x-python",
   "name": "python",
   "nbconvert_exporter": "python",
   "pygments_lexer": "ipython3",
   "version": "3.9.12"
  }
 },
 "nbformat": 4,
 "nbformat_minor": 5
}
