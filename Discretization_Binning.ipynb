{
 "cells": [
  {
   "cell_type": "code",
   "execution_count": 7,
   "id": "42529b2b",
   "metadata": {},
   "outputs": [
    {
     "data": {
      "text/plain": [
       "'Feature engineering is the most important aspect of a data science model development. \\nThere are several categories of features in a raw dataset. Features can be text, date/time, categorical, \\nand continuous variables. \\nFor a machine learning model, the dataset needs to be processed in the form of numerical vectors to train it using an \\nML algorithm.\\n\\nThe objective of this article is to demonstrate feature engineering techniques to transform a categorical feature into a continuous feature and vice-versa.\\n\\nFeature Binning: \\n    Conversion of a continuous variable to categorical.\\nFeature Encoding: \\n    Conversion of a categorical variable to numerical features.'"
      ]
     },
     "execution_count": 7,
     "metadata": {},
     "output_type": "execute_result"
    }
   ],
   "source": [
    "'''Feature engineering is the most important aspect of a data science model development. \n",
    "There are several categories of features in a raw dataset. Features can be text, date/time, categorical, \n",
    "and continuous variables. \n",
    "For a machine learning model, the dataset needs to be processed in the form of numerical vectors to train it using an \n",
    "ML algorithm.\n",
    "\n",
    "The objective of this article is to demonstrate feature engineering techniques to transform a categorical feature into a continuous feature and vice-versa.\n",
    "\n",
    "Feature Binning: \n",
    "    Conversion of a continuous variable to categorical.\n",
    "Feature Encoding: \n",
    "    Conversion of a categorical variable to numerical features.'''"
   ]
  },
  {
   "cell_type": "code",
   "execution_count": 2,
   "id": "a7ce7bfe",
   "metadata": {},
   "outputs": [],
   "source": [
    "# so Feature Binning will convert height value 180 cm to Tall and 160 to Average"
   ]
  },
  {
   "cell_type": "code",
   "execution_count": 6,
   "id": "13aca7c8",
   "metadata": {},
   "outputs": [
    {
     "data": {
      "text/plain": [
       "'Feature Binning:\\n\\nBinning or discretization is used for the transformation of a continuous or numerical variable into a categorical feature. \\nBinning of continuous variable introduces non-linearity and tends to improve the performance of the model. \\nIt can be also used to identify missing values or outliers.\\n\\nThere are two types of binning:\\n\\nUnsupervised Binning: \\n    Equal width binning, \\n    Equal frequency binning\\nSupervised Binning: \\n    Entropy-based binning'"
      ]
     },
     "execution_count": 6,
     "metadata": {},
     "output_type": "execute_result"
    }
   ],
   "source": [
    "\"\"\"Feature Binning / Discretization:\n",
    "\n",
    "Binning or discretization is used for the transformation of a continuous or numerical variable into a categorical feature. \n",
    "Binning of continuous variable introduces non-linearity and tends to improve the performance of the model. \n",
    "It can be also used to identify missing values or outliers.\n",
    "\n",
    "There are two types of binning:\n",
    "\n",
    "Unsupervised Binning: \n",
    "    Equal width binning, \n",
    "    Equal frequency binning\n",
    "Supervised Binning: \n",
    "    Entropy-based binning\"\"\""
   ]
  },
  {
   "cell_type": "code",
   "execution_count": 8,
   "id": "3e01f163",
   "metadata": {},
   "outputs": [
    {
     "data": {
      "text/plain": [
       "'Unsupervised Binning:\\n\\nUnsupervised binning is a category of binning that transforms a numerical or continuous variable \\ninto categorical bins without considering the target class label into account. '"
      ]
     },
     "execution_count": 8,
     "metadata": {},
     "output_type": "execute_result"
    }
   ],
   "source": [
    "\"\"\"Unsupervised Binning:\n",
    "\n",
    "Unsupervised binning is a category of binning that transforms a numerical or continuous variable \n",
    "into categorical bins without considering the target class label into account. \"\"\""
   ]
  },
  {
   "cell_type": "markdown",
   "id": "d8df9458",
   "metadata": {},
   "source": [
    "# Demostrate"
   ]
  },
  {
   "cell_type": "code",
   "execution_count": 10,
   "id": "fac6b5dd",
   "metadata": {},
   "outputs": [],
   "source": [
    "import pandas as pd\n",
    "import numpy as np"
   ]
  },
  {
   "cell_type": "code",
   "execution_count": 11,
   "id": "b45ca350",
   "metadata": {},
   "outputs": [],
   "source": [
    "df = pd.read_csv(\"data.csv\")"
   ]
  },
  {
   "cell_type": "code",
   "execution_count": 12,
   "id": "be1812ae",
   "metadata": {},
   "outputs": [
    {
     "data": {
      "text/html": [
       "<div>\n",
       "<style scoped>\n",
       "    .dataframe tbody tr th:only-of-type {\n",
       "        vertical-align: middle;\n",
       "    }\n",
       "\n",
       "    .dataframe tbody tr th {\n",
       "        vertical-align: top;\n",
       "    }\n",
       "\n",
       "    .dataframe thead th {\n",
       "        text-align: right;\n",
       "    }\n",
       "</style>\n",
       "<table border=\"1\" class=\"dataframe\">\n",
       "  <thead>\n",
       "    <tr style=\"text-align: right;\">\n",
       "      <th></th>\n",
       "      <th>Id</th>\n",
       "      <th>Area</th>\n",
       "      <th>SaleCondition</th>\n",
       "      <th>GarageArea</th>\n",
       "      <th>HeatingQuality</th>\n",
       "      <th>SalePrice</th>\n",
       "    </tr>\n",
       "  </thead>\n",
       "  <tbody>\n",
       "    <tr>\n",
       "      <th>0</th>\n",
       "      <td>1</td>\n",
       "      <td>8450</td>\n",
       "      <td>Normal</td>\n",
       "      <td>548</td>\n",
       "      <td>Ex</td>\n",
       "      <td>208500</td>\n",
       "    </tr>\n",
       "    <tr>\n",
       "      <th>1</th>\n",
       "      <td>2</td>\n",
       "      <td>9600</td>\n",
       "      <td>Normal</td>\n",
       "      <td>460</td>\n",
       "      <td>Ex</td>\n",
       "      <td>181500</td>\n",
       "    </tr>\n",
       "    <tr>\n",
       "      <th>2</th>\n",
       "      <td>3</td>\n",
       "      <td>11250</td>\n",
       "      <td>Normal</td>\n",
       "      <td>608</td>\n",
       "      <td>Ex</td>\n",
       "      <td>223500</td>\n",
       "    </tr>\n",
       "    <tr>\n",
       "      <th>3</th>\n",
       "      <td>4</td>\n",
       "      <td>9550</td>\n",
       "      <td>NotNormal</td>\n",
       "      <td>642</td>\n",
       "      <td>Gd</td>\n",
       "      <td>140000</td>\n",
       "    </tr>\n",
       "    <tr>\n",
       "      <th>4</th>\n",
       "      <td>5</td>\n",
       "      <td>14260</td>\n",
       "      <td>Normal</td>\n",
       "      <td>836</td>\n",
       "      <td>Ex</td>\n",
       "      <td>250000</td>\n",
       "    </tr>\n",
       "  </tbody>\n",
       "</table>\n",
       "</div>"
      ],
      "text/plain": [
       "   Id   Area SaleCondition  GarageArea HeatingQuality  SalePrice\n",
       "0   1   8450        Normal         548             Ex     208500\n",
       "1   2   9600        Normal         460             Ex     181500\n",
       "2   3  11250        Normal         608             Ex     223500\n",
       "3   4   9550     NotNormal         642             Gd     140000\n",
       "4   5  14260        Normal         836             Ex     250000"
      ]
     },
     "execution_count": 12,
     "metadata": {},
     "output_type": "execute_result"
    }
   ],
   "source": [
    "df.head()"
   ]
  },
  {
   "cell_type": "markdown",
   "id": "edaea0d4",
   "metadata": {},
   "source": [
    "#### Equal Width Binning"
   ]
  },
  {
   "cell_type": "code",
   "execution_count": 13,
   "id": "96993c68",
   "metadata": {},
   "outputs": [],
   "source": [
    "#Let us presume we want to create 5 bins"
   ]
  },
  {
   "cell_type": "code",
   "execution_count": 14,
   "id": "1c103adb",
   "metadata": {},
   "outputs": [],
   "source": [
    "# let us apply Unsupervised Binning - Equal width binning on column 'SalePrice'"
   ]
  },
  {
   "cell_type": "code",
   "execution_count": 21,
   "id": "0fdf9097",
   "metadata": {},
   "outputs": [],
   "source": [
    "x = df['SalePrice'].sort_values()"
   ]
  },
  {
   "cell_type": "code",
   "execution_count": 23,
   "id": "88a946e2",
   "metadata": {},
   "outputs": [
    {
     "data": {
      "text/plain": [
       "30     40000\n",
       "29     68500\n",
       "155    79000\n",
       "68     80000\n",
       "39     82000\n",
       "Name: SalePrice, dtype: int64"
      ]
     },
     "execution_count": 23,
     "metadata": {},
     "output_type": "execute_result"
    }
   ],
   "source": [
    "x.head()"
   ]
  },
  {
   "cell_type": "code",
   "execution_count": 26,
   "id": "1b15f14a",
   "metadata": {},
   "outputs": [],
   "source": [
    "var1 = x.min()"
   ]
  },
  {
   "cell_type": "code",
   "execution_count": 50,
   "id": "a6e3614f",
   "metadata": {},
   "outputs": [
    {
     "data": {
      "text/plain": [
       "40000"
      ]
     },
     "metadata": {},
     "output_type": "display_data"
    }
   ],
   "source": [
    "display(var1)"
   ]
  },
  {
   "cell_type": "code",
   "execution_count": 27,
   "id": "90685898",
   "metadata": {},
   "outputs": [],
   "source": [
    "var2 = x.max()"
   ]
  },
  {
   "cell_type": "code",
   "execution_count": 34,
   "id": "661e7f19",
   "metadata": {},
   "outputs": [],
   "source": [
    "Price_range  = abs((var2 - var1))"
   ]
  },
  {
   "cell_type": "code",
   "execution_count": 28,
   "id": "8086697c",
   "metadata": {},
   "outputs": [],
   "source": [
    "# range \n",
    "# w = [(max - min) / x]"
   ]
  },
  {
   "cell_type": "code",
   "execution_count": 38,
   "id": "c4272348",
   "metadata": {},
   "outputs": [],
   "source": [
    "w  = round(abs((var1 - var2) / 10))\n"
   ]
  },
  {
   "cell_type": "code",
   "execution_count": 39,
   "id": "0748f1d9",
   "metadata": {},
   "outputs": [
    {
     "data": {
      "text/plain": [
       "46184"
      ]
     },
     "metadata": {},
     "output_type": "display_data"
    }
   ],
   "source": [
    "display(w)"
   ]
  },
  {
   "cell_type": "code",
   "execution_count": 40,
   "id": "e2f62f15",
   "metadata": {},
   "outputs": [],
   "source": [
    "bins=[]\n",
    "for i in range(10):\n",
    "    bins.append(var1 + (i * w))"
   ]
  },
  {
   "cell_type": "code",
   "execution_count": 41,
   "id": "91de591d",
   "metadata": {},
   "outputs": [
    {
     "data": {
      "text/plain": [
       "[40000, 86184, 132368, 178552, 224736, 270920, 317104, 363288, 409472, 455656]"
      ]
     },
     "execution_count": 41,
     "metadata": {},
     "output_type": "execute_result"
    }
   ],
   "source": [
    "bins"
   ]
  },
  {
   "cell_type": "code",
   "execution_count": 42,
   "id": "9e749abe",
   "metadata": {},
   "outputs": [
    {
     "data": {
      "text/plain": [
       "[40000,\n",
       " 86184,\n",
       " 132368,\n",
       " 178552,\n",
       " 224736,\n",
       " 270920,\n",
       " 317104,\n",
       " 363288,\n",
       " 409472,\n",
       " 455656,\n",
       " 501840]"
      ]
     },
     "execution_count": 42,
     "metadata": {},
     "output_type": "execute_result"
    }
   ],
   "source": [
    "intervals = [i for i in range(var1, var2+w, w)]\n",
    "intervals"
   ]
  },
  {
   "cell_type": "code",
   "execution_count": 43,
   "id": "83278b2f",
   "metadata": {},
   "outputs": [
    {
     "data": {
      "text/plain": [
       "['Bin_1',\n",
       " 'Bin_2',\n",
       " 'Bin_3',\n",
       " 'Bin_4',\n",
       " 'Bin_5',\n",
       " 'Bin_6',\n",
       " 'Bin_7',\n",
       " 'Bin_8',\n",
       " 'Bin_9',\n",
       " 'Bin_10']"
      ]
     },
     "execution_count": 43,
     "metadata": {},
     "output_type": "execute_result"
    }
   ],
   "source": [
    "# let's make labels to label the different bins\n",
    "labels = ['Bin_'+str(i) for i in range(1,len(intervals))]\n",
    "labels"
   ]
  },
  {
   "cell_type": "code",
   "execution_count": 44,
   "id": "59274912",
   "metadata": {},
   "outputs": [
    {
     "data": {
      "text/plain": [
       "['Bin_1',\n",
       " 'Bin_2',\n",
       " 'Bin_3',\n",
       " 'Bin_4',\n",
       " 'Bin_5',\n",
       " 'Bin_6',\n",
       " 'Bin_7',\n",
       " 'Bin_8',\n",
       " 'Bin_9']"
      ]
     },
     "execution_count": 44,
     "metadata": {},
     "output_type": "execute_result"
    }
   ],
   "source": [
    "# let's make labels to label the different bins\n",
    "labels1 = ['Bin_'+str(i) for i in range(1,len(bins))]\n",
    "labels1"
   ]
  },
  {
   "cell_type": "code",
   "execution_count": 54,
   "id": "f70a32d7",
   "metadata": {},
   "outputs": [],
   "source": [
    "# create binned SalePrice\n",
    "\n",
    "# create one column with labels\n",
    "df['SalePrice_disc_labels'] = pd.cut(x = df['SalePrice'] , bins=intervals, labels=labels, include_lowest=True)\n",
    "\n",
    "# and one with bin boundaries\n",
    "df['SalePrice_disc'] = pd.cut(x = df['SalePrice'], bins=intervals, include_lowest=True)\n",
    "\n",
    "\n"
   ]
  },
  {
   "cell_type": "code",
   "execution_count": 55,
   "id": "0e93cb41",
   "metadata": {},
   "outputs": [
    {
     "data": {
      "text/html": [
       "<div>\n",
       "<style scoped>\n",
       "    .dataframe tbody tr th:only-of-type {\n",
       "        vertical-align: middle;\n",
       "    }\n",
       "\n",
       "    .dataframe tbody tr th {\n",
       "        vertical-align: top;\n",
       "    }\n",
       "\n",
       "    .dataframe thead th {\n",
       "        text-align: right;\n",
       "    }\n",
       "</style>\n",
       "<table border=\"1\" class=\"dataframe\">\n",
       "  <thead>\n",
       "    <tr style=\"text-align: right;\">\n",
       "      <th></th>\n",
       "      <th>Id</th>\n",
       "      <th>Area</th>\n",
       "      <th>SaleCondition</th>\n",
       "      <th>GarageArea</th>\n",
       "      <th>HeatingQuality</th>\n",
       "      <th>SalePrice</th>\n",
       "      <th>SalePrice_disc_labels</th>\n",
       "      <th>SalePrice_disc</th>\n",
       "    </tr>\n",
       "  </thead>\n",
       "  <tbody>\n",
       "    <tr>\n",
       "      <th>183</th>\n",
       "      <td>184</td>\n",
       "      <td>11426</td>\n",
       "      <td>Normal</td>\n",
       "      <td>484</td>\n",
       "      <td>Ex</td>\n",
       "      <td>200000</td>\n",
       "      <td>Bin_4</td>\n",
       "      <td>(178552.0, 224736.0]</td>\n",
       "    </tr>\n",
       "    <tr>\n",
       "      <th>91</th>\n",
       "      <td>92</td>\n",
       "      <td>8500</td>\n",
       "      <td>NotNormal</td>\n",
       "      <td>480</td>\n",
       "      <td>TA</td>\n",
       "      <td>98600</td>\n",
       "      <td>Bin_2</td>\n",
       "      <td>(86184.0, 132368.0]</td>\n",
       "    </tr>\n",
       "    <tr>\n",
       "      <th>36</th>\n",
       "      <td>37</td>\n",
       "      <td>10859</td>\n",
       "      <td>Normal</td>\n",
       "      <td>672</td>\n",
       "      <td>Ex</td>\n",
       "      <td>145000</td>\n",
       "      <td>Bin_3</td>\n",
       "      <td>(132368.0, 178552.0]</td>\n",
       "    </tr>\n",
       "    <tr>\n",
       "      <th>33</th>\n",
       "      <td>34</td>\n",
       "      <td>10552</td>\n",
       "      <td>Normal</td>\n",
       "      <td>447</td>\n",
       "      <td>Gd</td>\n",
       "      <td>165500</td>\n",
       "      <td>Bin_3</td>\n",
       "      <td>(132368.0, 178552.0]</td>\n",
       "    </tr>\n",
       "    <tr>\n",
       "      <th>58</th>\n",
       "      <td>59</td>\n",
       "      <td>13682</td>\n",
       "      <td>NotNormal</td>\n",
       "      <td>641</td>\n",
       "      <td>Ex</td>\n",
       "      <td>438780</td>\n",
       "      <td>Bin_9</td>\n",
       "      <td>(409472.0, 455656.0]</td>\n",
       "    </tr>\n",
       "    <tr>\n",
       "      <th>165</th>\n",
       "      <td>166</td>\n",
       "      <td>10106</td>\n",
       "      <td>Normal</td>\n",
       "      <td>0</td>\n",
       "      <td>Gd</td>\n",
       "      <td>127500</td>\n",
       "      <td>Bin_2</td>\n",
       "      <td>(86184.0, 132368.0]</td>\n",
       "    </tr>\n",
       "    <tr>\n",
       "      <th>172</th>\n",
       "      <td>173</td>\n",
       "      <td>5306</td>\n",
       "      <td>Normal</td>\n",
       "      <td>504</td>\n",
       "      <td>Gd</td>\n",
       "      <td>239000</td>\n",
       "      <td>Bin_5</td>\n",
       "      <td>(224736.0, 270920.0]</td>\n",
       "    </tr>\n",
       "    <tr>\n",
       "      <th>134</th>\n",
       "      <td>135</td>\n",
       "      <td>10335</td>\n",
       "      <td>Normal</td>\n",
       "      <td>440</td>\n",
       "      <td>Gd</td>\n",
       "      <td>180000</td>\n",
       "      <td>Bin_4</td>\n",
       "      <td>(178552.0, 224736.0]</td>\n",
       "    </tr>\n",
       "    <tr>\n",
       "      <th>166</th>\n",
       "      <td>167</td>\n",
       "      <td>10708</td>\n",
       "      <td>Normal</td>\n",
       "      <td>303</td>\n",
       "      <td>Ex</td>\n",
       "      <td>190000</td>\n",
       "      <td>Bin_4</td>\n",
       "      <td>(178552.0, 224736.0]</td>\n",
       "    </tr>\n",
       "    <tr>\n",
       "      <th>96</th>\n",
       "      <td>97</td>\n",
       "      <td>10264</td>\n",
       "      <td>Normal</td>\n",
       "      <td>472</td>\n",
       "      <td>Ex</td>\n",
       "      <td>214000</td>\n",
       "      <td>Bin_4</td>\n",
       "      <td>(178552.0, 224736.0]</td>\n",
       "    </tr>\n",
       "  </tbody>\n",
       "</table>\n",
       "</div>"
      ],
      "text/plain": [
       "      Id   Area SaleCondition  GarageArea HeatingQuality  SalePrice  \\\n",
       "183  184  11426        Normal         484             Ex     200000   \n",
       "91    92   8500     NotNormal         480             TA      98600   \n",
       "36    37  10859        Normal         672             Ex     145000   \n",
       "33    34  10552        Normal         447             Gd     165500   \n",
       "58    59  13682     NotNormal         641             Ex     438780   \n",
       "165  166  10106        Normal           0             Gd     127500   \n",
       "172  173   5306        Normal         504             Gd     239000   \n",
       "134  135  10335        Normal         440             Gd     180000   \n",
       "166  167  10708        Normal         303             Ex     190000   \n",
       "96    97  10264        Normal         472             Ex     214000   \n",
       "\n",
       "    SalePrice_disc_labels        SalePrice_disc  \n",
       "183                 Bin_4  (178552.0, 224736.0]  \n",
       "91                  Bin_2   (86184.0, 132368.0]  \n",
       "36                  Bin_3  (132368.0, 178552.0]  \n",
       "33                  Bin_3  (132368.0, 178552.0]  \n",
       "58                  Bin_9  (409472.0, 455656.0]  \n",
       "165                 Bin_2   (86184.0, 132368.0]  \n",
       "172                 Bin_5  (224736.0, 270920.0]  \n",
       "134                 Bin_4  (178552.0, 224736.0]  \n",
       "166                 Bin_4  (178552.0, 224736.0]  \n",
       "96                  Bin_4  (178552.0, 224736.0]  "
      ]
     },
     "execution_count": 55,
     "metadata": {},
     "output_type": "execute_result"
    }
   ],
   "source": [
    "df.sample(10)"
   ]
  },
  {
   "cell_type": "code",
   "execution_count": 56,
   "id": "6d0b5598",
   "metadata": {},
   "outputs": [
    {
     "data": {
      "text/plain": [
       "SalePrice_disc\n",
       "(39999.999, 86184.0]     8\n",
       "(86184.0, 132368.0]     50\n",
       "(132368.0, 178552.0]    57\n",
       "(178552.0, 224736.0]    38\n",
       "(224736.0, 270920.0]    24\n",
       "(270920.0, 317104.0]    10\n",
       "(317104.0, 363288.0]     6\n",
       "(363288.0, 409472.0]     3\n",
       "(409472.0, 455656.0]     2\n",
       "(455656.0, 501840.0]     2\n",
       "Name: SalePrice, dtype: int64"
      ]
     },
     "execution_count": 56,
     "metadata": {},
     "output_type": "execute_result"
    }
   ],
   "source": [
    "df.groupby('SalePrice_disc')['SalePrice'].count()"
   ]
  },
  {
   "cell_type": "markdown",
   "id": "8f9cf9af",
   "metadata": {},
   "source": [
    "#### Equal frequency binning"
   ]
  },
  {
   "cell_type": "code",
   "execution_count": 57,
   "id": "180fe544",
   "metadata": {},
   "outputs": [],
   "source": [
    "# This algorithm divides the data into various categories having approximately the same number of values. The values of data are distributed equally into the formed categories.\n",
    "\n",
    "#     freq = n/x\n",
    "\n",
    "# Notations,\n",
    "# x = number of categories\n",
    "# freq = frequency of a category\n",
    "# n = number of values in data"
   ]
  },
  {
   "cell_type": "markdown",
   "id": "82adb41c",
   "metadata": {},
   "source": [
    "# Demostrate via sklearn"
   ]
  },
  {
   "cell_type": "code",
   "execution_count": 78,
   "id": "a4f0db9d",
   "metadata": {},
   "outputs": [],
   "source": [
    "from sklearn.metrics import accuracy_score\n",
    "from sklearn.model_selection import cross_val_score\n",
    "from sklearn.preprocessing import KBinsDiscretizer\n",
    "from sklearn. compose import ColumnTransformer\n",
    "from sklearn.model_selection import train_test_split\n",
    "\n",
    "from sklearn.linear_model import LogisticRegression\n",
    "from sklearn.tree import DecisionTreeClassifier"
   ]
  },
  {
   "cell_type": "code",
   "execution_count": 63,
   "id": "683ef416",
   "metadata": {},
   "outputs": [],
   "source": [
    "df = pd.read_csv(\"data.csv\")"
   ]
  },
  {
   "cell_type": "code",
   "execution_count": 67,
   "id": "00d6beb0",
   "metadata": {},
   "outputs": [
    {
     "data": {
      "text/html": [
       "<div>\n",
       "<style scoped>\n",
       "    .dataframe tbody tr th:only-of-type {\n",
       "        vertical-align: middle;\n",
       "    }\n",
       "\n",
       "    .dataframe tbody tr th {\n",
       "        vertical-align: top;\n",
       "    }\n",
       "\n",
       "    .dataframe thead th {\n",
       "        text-align: right;\n",
       "    }\n",
       "</style>\n",
       "<table border=\"1\" class=\"dataframe\">\n",
       "  <thead>\n",
       "    <tr style=\"text-align: right;\">\n",
       "      <th></th>\n",
       "      <th>Id</th>\n",
       "      <th>Area</th>\n",
       "      <th>SaleCondition</th>\n",
       "      <th>GarageArea</th>\n",
       "      <th>HeatingQuality</th>\n",
       "      <th>SalePrice</th>\n",
       "    </tr>\n",
       "  </thead>\n",
       "  <tbody>\n",
       "    <tr>\n",
       "      <th>0</th>\n",
       "      <td>1</td>\n",
       "      <td>8450</td>\n",
       "      <td>Normal</td>\n",
       "      <td>548</td>\n",
       "      <td>Ex</td>\n",
       "      <td>208500</td>\n",
       "    </tr>\n",
       "    <tr>\n",
       "      <th>1</th>\n",
       "      <td>2</td>\n",
       "      <td>9600</td>\n",
       "      <td>Normal</td>\n",
       "      <td>460</td>\n",
       "      <td>Ex</td>\n",
       "      <td>181500</td>\n",
       "    </tr>\n",
       "    <tr>\n",
       "      <th>2</th>\n",
       "      <td>3</td>\n",
       "      <td>11250</td>\n",
       "      <td>Normal</td>\n",
       "      <td>608</td>\n",
       "      <td>Ex</td>\n",
       "      <td>223500</td>\n",
       "    </tr>\n",
       "    <tr>\n",
       "      <th>3</th>\n",
       "      <td>4</td>\n",
       "      <td>9550</td>\n",
       "      <td>NotNormal</td>\n",
       "      <td>642</td>\n",
       "      <td>Gd</td>\n",
       "      <td>140000</td>\n",
       "    </tr>\n",
       "    <tr>\n",
       "      <th>4</th>\n",
       "      <td>5</td>\n",
       "      <td>14260</td>\n",
       "      <td>Normal</td>\n",
       "      <td>836</td>\n",
       "      <td>Ex</td>\n",
       "      <td>250000</td>\n",
       "    </tr>\n",
       "  </tbody>\n",
       "</table>\n",
       "</div>"
      ],
      "text/plain": [
       "   Id   Area SaleCondition  GarageArea HeatingQuality  SalePrice\n",
       "0   1   8450        Normal         548             Ex     208500\n",
       "1   2   9600        Normal         460             Ex     181500\n",
       "2   3  11250        Normal         608             Ex     223500\n",
       "3   4   9550     NotNormal         642             Gd     140000\n",
       "4   5  14260        Normal         836             Ex     250000"
      ]
     },
     "execution_count": 67,
     "metadata": {},
     "output_type": "execute_result"
    }
   ],
   "source": [
    "df.head()"
   ]
  },
  {
   "cell_type": "code",
   "execution_count": 70,
   "id": "d56e2fea",
   "metadata": {},
   "outputs": [],
   "source": [
    "x = df[['GarageArea', 'Area']]"
   ]
  },
  {
   "cell_type": "code",
   "execution_count": 71,
   "id": "a77a3295",
   "metadata": {},
   "outputs": [
    {
     "data": {
      "text/html": [
       "<div>\n",
       "<style scoped>\n",
       "    .dataframe tbody tr th:only-of-type {\n",
       "        vertical-align: middle;\n",
       "    }\n",
       "\n",
       "    .dataframe tbody tr th {\n",
       "        vertical-align: top;\n",
       "    }\n",
       "\n",
       "    .dataframe thead th {\n",
       "        text-align: right;\n",
       "    }\n",
       "</style>\n",
       "<table border=\"1\" class=\"dataframe\">\n",
       "  <thead>\n",
       "    <tr style=\"text-align: right;\">\n",
       "      <th></th>\n",
       "      <th>GarageArea</th>\n",
       "      <th>Area</th>\n",
       "    </tr>\n",
       "  </thead>\n",
       "  <tbody>\n",
       "    <tr>\n",
       "      <th>0</th>\n",
       "      <td>548</td>\n",
       "      <td>8450</td>\n",
       "    </tr>\n",
       "    <tr>\n",
       "      <th>1</th>\n",
       "      <td>460</td>\n",
       "      <td>9600</td>\n",
       "    </tr>\n",
       "    <tr>\n",
       "      <th>2</th>\n",
       "      <td>608</td>\n",
       "      <td>11250</td>\n",
       "    </tr>\n",
       "    <tr>\n",
       "      <th>3</th>\n",
       "      <td>642</td>\n",
       "      <td>9550</td>\n",
       "    </tr>\n",
       "    <tr>\n",
       "      <th>4</th>\n",
       "      <td>836</td>\n",
       "      <td>14260</td>\n",
       "    </tr>\n",
       "  </tbody>\n",
       "</table>\n",
       "</div>"
      ],
      "text/plain": [
       "   GarageArea   Area\n",
       "0         548   8450\n",
       "1         460   9600\n",
       "2         608  11250\n",
       "3         642   9550\n",
       "4         836  14260"
      ]
     },
     "execution_count": 71,
     "metadata": {},
     "output_type": "execute_result"
    }
   ],
   "source": [
    "x.head()"
   ]
  },
  {
   "cell_type": "code",
   "execution_count": 72,
   "id": "7a8c66e7",
   "metadata": {},
   "outputs": [],
   "source": [
    "y = df[['SalePrice']]"
   ]
  },
  {
   "cell_type": "code",
   "execution_count": 73,
   "id": "c7cdb78f",
   "metadata": {},
   "outputs": [
    {
     "data": {
      "text/html": [
       "<div>\n",
       "<style scoped>\n",
       "    .dataframe tbody tr th:only-of-type {\n",
       "        vertical-align: middle;\n",
       "    }\n",
       "\n",
       "    .dataframe tbody tr th {\n",
       "        vertical-align: top;\n",
       "    }\n",
       "\n",
       "    .dataframe thead th {\n",
       "        text-align: right;\n",
       "    }\n",
       "</style>\n",
       "<table border=\"1\" class=\"dataframe\">\n",
       "  <thead>\n",
       "    <tr style=\"text-align: right;\">\n",
       "      <th></th>\n",
       "      <th>SalePrice</th>\n",
       "    </tr>\n",
       "  </thead>\n",
       "  <tbody>\n",
       "    <tr>\n",
       "      <th>0</th>\n",
       "      <td>208500</td>\n",
       "    </tr>\n",
       "    <tr>\n",
       "      <th>1</th>\n",
       "      <td>181500</td>\n",
       "    </tr>\n",
       "    <tr>\n",
       "      <th>2</th>\n",
       "      <td>223500</td>\n",
       "    </tr>\n",
       "    <tr>\n",
       "      <th>3</th>\n",
       "      <td>140000</td>\n",
       "    </tr>\n",
       "    <tr>\n",
       "      <th>4</th>\n",
       "      <td>250000</td>\n",
       "    </tr>\n",
       "  </tbody>\n",
       "</table>\n",
       "</div>"
      ],
      "text/plain": [
       "   SalePrice\n",
       "0     208500\n",
       "1     181500\n",
       "2     223500\n",
       "3     140000\n",
       "4     250000"
      ]
     },
     "execution_count": 73,
     "metadata": {},
     "output_type": "execute_result"
    }
   ],
   "source": [
    "y.head()"
   ]
  },
  {
   "cell_type": "code",
   "execution_count": 76,
   "id": "9aeb5522",
   "metadata": {},
   "outputs": [],
   "source": [
    "x_train,x_test, y_train, y_test = train_test_split(x,y, test_size=0.2, random_state=42)"
   ]
  },
  {
   "cell_type": "code",
   "execution_count": 77,
   "id": "4743bb22",
   "metadata": {},
   "outputs": [
    {
     "data": {
      "text/html": [
       "<div>\n",
       "<style scoped>\n",
       "    .dataframe tbody tr th:only-of-type {\n",
       "        vertical-align: middle;\n",
       "    }\n",
       "\n",
       "    .dataframe tbody tr th {\n",
       "        vertical-align: top;\n",
       "    }\n",
       "\n",
       "    .dataframe thead th {\n",
       "        text-align: right;\n",
       "    }\n",
       "</style>\n",
       "<table border=\"1\" class=\"dataframe\">\n",
       "  <thead>\n",
       "    <tr style=\"text-align: right;\">\n",
       "      <th></th>\n",
       "      <th>GarageArea</th>\n",
       "      <th>Area</th>\n",
       "    </tr>\n",
       "  </thead>\n",
       "  <tbody>\n",
       "    <tr>\n",
       "      <th>79</th>\n",
       "      <td>440</td>\n",
       "      <td>10440</td>\n",
       "    </tr>\n",
       "    <tr>\n",
       "      <th>197</th>\n",
       "      <td>795</td>\n",
       "      <td>25419</td>\n",
       "    </tr>\n",
       "    <tr>\n",
       "      <th>38</th>\n",
       "      <td>246</td>\n",
       "      <td>7922</td>\n",
       "    </tr>\n",
       "    <tr>\n",
       "      <th>24</th>\n",
       "      <td>270</td>\n",
       "      <td>8246</td>\n",
       "    </tr>\n",
       "    <tr>\n",
       "      <th>122</th>\n",
       "      <td>288</td>\n",
       "      <td>9464</td>\n",
       "    </tr>\n",
       "  </tbody>\n",
       "</table>\n",
       "</div>"
      ],
      "text/plain": [
       "     GarageArea   Area\n",
       "79          440  10440\n",
       "197         795  25419\n",
       "38          246   7922\n",
       "24          270   8246\n",
       "122         288   9464"
      ]
     },
     "execution_count": 77,
     "metadata": {},
     "output_type": "execute_result"
    }
   ],
   "source": [
    "x_train.head()"
   ]
  },
  {
   "cell_type": "code",
   "execution_count": 79,
   "id": "63195361",
   "metadata": {},
   "outputs": [],
   "source": [
    "clf = DecisionTreeClassifier()"
   ]
  },
  {
   "cell_type": "code",
   "execution_count": 80,
   "id": "0042334b",
   "metadata": {},
   "outputs": [
    {
     "data": {
      "text/plain": [
       "DecisionTreeClassifier()"
      ]
     },
     "execution_count": 80,
     "metadata": {},
     "output_type": "execute_result"
    }
   ],
   "source": [
    "clf.fit(x_train, y_train)"
   ]
  },
  {
   "cell_type": "code",
   "execution_count": 82,
   "id": "29b02896",
   "metadata": {},
   "outputs": [],
   "source": [
    "y_pred = clf.predict(x_test)"
   ]
  },
  {
   "cell_type": "code",
   "execution_count": 83,
   "id": "e35dba30",
   "metadata": {},
   "outputs": [
    {
     "data": {
      "text/plain": [
       "0.0"
      ]
     },
     "execution_count": 83,
     "metadata": {},
     "output_type": "execute_result"
    }
   ],
   "source": [
    "accuracy_score(y_test, y_pred)"
   ]
  },
  {
   "cell_type": "code",
   "execution_count": 87,
   "id": "a51c5c8c",
   "metadata": {},
   "outputs": [
    {
     "name": "stderr",
     "output_type": "stream",
     "text": [
      "C:\\Users\\cefb8t\\Anaconda3\\lib\\site-packages\\sklearn\\model_selection\\_split.py:676: UserWarning: The least populated class in y has only 1 members, which is less than n_splits=2.\n",
      "  warnings.warn(\n"
     ]
    },
    {
     "data": {
      "text/plain": [
       "0.01"
      ]
     },
     "execution_count": 87,
     "metadata": {},
     "output_type": "execute_result"
    }
   ],
   "source": [
    "np.mean(cross_val_score(DecisionTreeClassifier() , x, y, cv=2, scoring='accuracy' ) )"
   ]
  },
  {
   "cell_type": "code",
   "execution_count": 88,
   "id": "40397b39",
   "metadata": {},
   "outputs": [],
   "source": [
    "# So without applying any transformation accuracy score is 0.0"
   ]
  },
  {
   "cell_type": "code",
   "execution_count": 164,
   "id": "108afc71",
   "metadata": {},
   "outputs": [],
   "source": [
    "kbin_Area= KBinsDiscretizer(n_bins=10,encode= 'ordinal',strategy='quantile')\n",
    "kbin_GarageArea= KBinsDiscretizer(n_bins=10,encode= 'ordinal',strategy='quantile')"
   ]
  },
  {
   "cell_type": "code",
   "execution_count": 165,
   "id": "caad990d",
   "metadata": {},
   "outputs": [],
   "source": [
    "trf = ColumnTransformer([\n",
    "    ('first', kbin_Area, [1]),\n",
    "    ('second', kbin_GarageArea, [0])\n",
    "]\n",
    ")"
   ]
  },
  {
   "cell_type": "code",
   "execution_count": 166,
   "id": "4ecd7034",
   "metadata": {},
   "outputs": [],
   "source": [
    "x_train_transform = trf.fit_transform(x_train)\n",
    "x_test_transform = trf.transform(x_test)"
   ]
  },
  {
   "cell_type": "code",
   "execution_count": 168,
   "id": "03d1e340",
   "metadata": {},
   "outputs": [],
   "source": [
    "output = pd.DataFrame({\n",
    "    'GarageArea': x_train['GarageArea'],\n",
    "    'GarageArea_transform': x_train_transform[:, 1],\n",
    "    'Area': x_train['Area'],\n",
    "    'Area_transform': x_train_transform[:, 0]\n",
    "}\n",
    ")"
   ]
  },
  {
   "cell_type": "code",
   "execution_count": 169,
   "id": "4b57ec04",
   "metadata": {},
   "outputs": [],
   "source": [
    "bins_range = trf.named_transformers_['second'].bin_edges_\n"
   ]
  },
  {
   "cell_type": "code",
   "execution_count": 170,
   "id": "42c73cb3",
   "metadata": {},
   "outputs": [],
   "source": [
    "output['Area_labels'] = pd.cut(x =x_train['Area'], \n",
    "                               bins=trf.named_transformers_['first'].bin_edges_[0].tolist())"
   ]
  },
  {
   "cell_type": "code",
   "execution_count": 171,
   "id": "4174c07e",
   "metadata": {},
   "outputs": [],
   "source": [
    "output['GarageArea_labels'] = pd.cut(x =x_train['GarageArea'], \n",
    "                               bins=trf.named_transformers_['second'].bin_edges_[0].tolist())"
   ]
  },
  {
   "cell_type": "code",
   "execution_count": 172,
   "id": "ba3fdd8e",
   "metadata": {},
   "outputs": [
    {
     "data": {
      "text/html": [
       "<div>\n",
       "<style scoped>\n",
       "    .dataframe tbody tr th:only-of-type {\n",
       "        vertical-align: middle;\n",
       "    }\n",
       "\n",
       "    .dataframe tbody tr th {\n",
       "        vertical-align: top;\n",
       "    }\n",
       "\n",
       "    .dataframe thead th {\n",
       "        text-align: right;\n",
       "    }\n",
       "</style>\n",
       "<table border=\"1\" class=\"dataframe\">\n",
       "  <thead>\n",
       "    <tr style=\"text-align: right;\">\n",
       "      <th></th>\n",
       "      <th>GarageArea</th>\n",
       "      <th>GarageArea_transform</th>\n",
       "      <th>Area</th>\n",
       "      <th>Area_transform</th>\n",
       "      <th>Area_labels</th>\n",
       "      <th>GarageArea_labels</th>\n",
       "    </tr>\n",
       "  </thead>\n",
       "  <tbody>\n",
       "    <tr>\n",
       "      <th>79</th>\n",
       "      <td>440</td>\n",
       "      <td>4.0</td>\n",
       "      <td>10440</td>\n",
       "      <td>6.0</td>\n",
       "      <td>(10390.0, 10959.4]</td>\n",
       "      <td>(387.4, 440.0]</td>\n",
       "    </tr>\n",
       "    <tr>\n",
       "      <th>197</th>\n",
       "      <td>795</td>\n",
       "      <td>9.0</td>\n",
       "      <td>25419</td>\n",
       "      <td>9.0</td>\n",
       "      <td>(14201.5, 50271.0]</td>\n",
       "      <td>(736.4, 1166.0]</td>\n",
       "    </tr>\n",
       "    <tr>\n",
       "      <th>38</th>\n",
       "      <td>246</td>\n",
       "      <td>1.0</td>\n",
       "      <td>7922</td>\n",
       "      <td>2.0</td>\n",
       "      <td>(7200.0, 8191.8]</td>\n",
       "      <td>(240.0, 308.0]</td>\n",
       "    </tr>\n",
       "    <tr>\n",
       "      <th>24</th>\n",
       "      <td>270</td>\n",
       "      <td>1.0</td>\n",
       "      <td>8246</td>\n",
       "      <td>3.0</td>\n",
       "      <td>(8191.8, 8940.6]</td>\n",
       "      <td>(240.0, 308.0]</td>\n",
       "    </tr>\n",
       "    <tr>\n",
       "      <th>122</th>\n",
       "      <td>288</td>\n",
       "      <td>1.0</td>\n",
       "      <td>9464</td>\n",
       "      <td>4.0</td>\n",
       "      <td>(8940.6, 9570.5]</td>\n",
       "      <td>(240.0, 308.0]</td>\n",
       "    </tr>\n",
       "  </tbody>\n",
       "</table>\n",
       "</div>"
      ],
      "text/plain": [
       "     GarageArea  GarageArea_transform   Area  Area_transform  \\\n",
       "79          440                   4.0  10440             6.0   \n",
       "197         795                   9.0  25419             9.0   \n",
       "38          246                   1.0   7922             2.0   \n",
       "24          270                   1.0   8246             3.0   \n",
       "122         288                   1.0   9464             4.0   \n",
       "\n",
       "            Area_labels GarageArea_labels  \n",
       "79   (10390.0, 10959.4]    (387.4, 440.0]  \n",
       "197  (14201.5, 50271.0]   (736.4, 1166.0]  \n",
       "38     (7200.0, 8191.8]    (240.0, 308.0]  \n",
       "24     (8191.8, 8940.6]    (240.0, 308.0]  \n",
       "122    (8940.6, 9570.5]    (240.0, 308.0]  "
      ]
     },
     "execution_count": 172,
     "metadata": {},
     "output_type": "execute_result"
    }
   ],
   "source": [
    "output.head()"
   ]
  },
  {
   "cell_type": "code",
   "execution_count": 178,
   "id": "93755083",
   "metadata": {},
   "outputs": [
    {
     "data": {
      "text/plain": [
       "Text(0.5, 1.0, 'After')"
      ]
     },
     "execution_count": 178,
     "metadata": {},
     "output_type": "execute_result"
    },
    {
     "data": {
      "image/png": "[encoded data removed]",
      "text/plain": [
       "<Figure size 1008x288 with 2 Axes>"
      ]
     },
     "metadata": {
      "needs_background": "light"
     },
     "output_type": "display_data"
    }
   ],
   "source": [
    "import matplotlib.pyplot as plt\n",
    "\n",
    "plt.figure(figsize=(14,4))\n",
    "plt.subplot(121)\n",
    "plt.hist(x_train['Area'])\n",
    "plt.title('Before')\n",
    "\n",
    "plt.subplot(122)\n",
    "plt.hist(output['Area_transform'], color='red')\n",
    "plt.title('After')"
   ]
  },
  {
   "cell_type": "markdown",
   "id": "ff85b4c7",
   "metadata": {},
   "source": [
    "# Another approach to code from ChatGpt"
   ]
  },
  {
   "cell_type": "code",
   "execution_count": 115,
   "id": "4925a9d7",
   "metadata": {},
   "outputs": [],
   "source": [
    "# Select the columns to be discretized\n",
    "numeric_features = ['Area', 'GarageArea']"
   ]
  },
  {
   "cell_type": "code",
   "execution_count": 116,
   "id": "b46a1b33",
   "metadata": {},
   "outputs": [],
   "source": [
    "# Create the ColumnTransformer\n",
    "preprocessor = ColumnTransformer(\n",
    "    transformers=[\n",
    "        ('numeric', KBinsDiscretizer(n_bins=10, encode='ordinal', strategy='quantile'), numeric_features)\n",
    "        \n",
    "    ])"
   ]
  },
  {
   "cell_type": "code",
   "execution_count": 117,
   "id": "a5c16b27",
   "metadata": {},
   "outputs": [],
   "source": [
    "# Fit and transform the train set\n",
    "x_train_transformed = preprocessor.fit_transform(x_train)"
   ]
  },
  {
   "cell_type": "code",
   "execution_count": 118,
   "id": "94ad4dda",
   "metadata": {},
   "outputs": [],
   "source": [
    "x_test_transform = preprocessor.fit_transform(x_test)"
   ]
  },
  {
   "cell_type": "code",
   "execution_count": 119,
   "id": "7ff99752",
   "metadata": {},
   "outputs": [],
   "source": [
    "# Create new DataFrames for the transformed data\n",
    "x_train_final = pd.DataFrame(x_train_transformed, columns=numeric_features)"
   ]
  },
  {
   "cell_type": "code",
   "execution_count": 120,
   "id": "6b3c10bb",
   "metadata": {},
   "outputs": [],
   "source": [
    "x_test_final = pd.DataFrame(x_test_transform, columns=numeric_features)"
   ]
  },
  {
   "cell_type": "code",
   "execution_count": 128,
   "id": "3711b0be",
   "metadata": {},
   "outputs": [],
   "source": [
    "# Add a column with the range for each bin\n",
    "bins_range = preprocessor.named_transformers_['numeric'].bin_edges_\n"
   ]
  },
  {
   "cell_type": "code",
   "execution_count": 135,
   "id": "3fc28bba",
   "metadata": {},
   "outputs": [
    {
     "name": "stdout",
     "output_type": "stream",
     "text": [
      "[array([ 1596. ,  5320.8,  7350.4,  7637.6,  8518. ,  9856. , 10266. ,\n",
      "        10865.6, 12443.2, 13805.8, 19900. ])\n",
      " array([  0. , 200.1, 248. , 369.1, 440. , 480. , 515.6, 576. , 584. ,\n",
      "        668.1, 852. ])                                                ]\n"
     ]
    }
   ],
   "source": [
    "print(bins_range)"
   ]
  },
  {
   "cell_type": "code",
   "execution_count": 130,
   "id": "d38712a7",
   "metadata": {},
   "outputs": [],
   "source": [
    "range_column = pd.cut(x_train['Area'], \n",
    "                      bins=bins_range[0], labels=[f'({bins_range[0][i]}, {bins_range[0][i+1]})' for i in range(len(bins_range[0])-1)])\n"
   ]
  },
  {
   "cell_type": "code",
   "execution_count": 132,
   "id": "1802ab1f",
   "metadata": {},
   "outputs": [],
   "source": [
    "x_train_final['Range'] = range_column"
   ]
  },
  {
   "cell_type": "code",
   "execution_count": 134,
   "id": "bf7f91b0",
   "metadata": {},
   "outputs": [
    {
     "data": {
      "text/html": [
       "<div>\n",
       "<style scoped>\n",
       "    .dataframe tbody tr th:only-of-type {\n",
       "        vertical-align: middle;\n",
       "    }\n",
       "\n",
       "    .dataframe tbody tr th {\n",
       "        vertical-align: top;\n",
       "    }\n",
       "\n",
       "    .dataframe thead th {\n",
       "        text-align: right;\n",
       "    }\n",
       "</style>\n",
       "<table border=\"1\" class=\"dataframe\">\n",
       "  <thead>\n",
       "    <tr style=\"text-align: right;\">\n",
       "      <th></th>\n",
       "      <th>Area</th>\n",
       "      <th>GarageArea</th>\n",
       "      <th>Range</th>\n",
       "    </tr>\n",
       "  </thead>\n",
       "  <tbody>\n",
       "    <tr>\n",
       "      <th>0</th>\n",
       "      <td>6.0</td>\n",
       "      <td>4.0</td>\n",
       "      <td>(7637.6, 8518.0)</td>\n",
       "    </tr>\n",
       "    <tr>\n",
       "      <th>1</th>\n",
       "      <td>9.0</td>\n",
       "      <td>9.0</td>\n",
       "      <td>(8518.0, 9856.0)</td>\n",
       "    </tr>\n",
       "    <tr>\n",
       "      <th>2</th>\n",
       "      <td>2.0</td>\n",
       "      <td>1.0</td>\n",
       "      <td>(10865.599999999999, 12443.2)</td>\n",
       "    </tr>\n",
       "    <tr>\n",
       "      <th>3</th>\n",
       "      <td>3.0</td>\n",
       "      <td>1.0</td>\n",
       "      <td>(8518.0, 9856.0)</td>\n",
       "    </tr>\n",
       "    <tr>\n",
       "      <th>4</th>\n",
       "      <td>4.0</td>\n",
       "      <td>1.0</td>\n",
       "      <td>(13805.800000000001, 19900.0)</td>\n",
       "    </tr>\n",
       "  </tbody>\n",
       "</table>\n",
       "</div>"
      ],
      "text/plain": [
       "   Area  GarageArea                          Range\n",
       "0   6.0         4.0               (7637.6, 8518.0)\n",
       "1   9.0         9.0               (8518.0, 9856.0)\n",
       "2   2.0         1.0  (10865.599999999999, 12443.2)\n",
       "3   3.0         1.0               (8518.0, 9856.0)\n",
       "4   4.0         1.0  (13805.800000000001, 19900.0)"
      ]
     },
     "execution_count": 134,
     "metadata": {},
     "output_type": "execute_result"
    }
   ],
   "source": [
    "x_train_final.head()"
   ]
  },
  {
   "cell_type": "code",
   "execution_count": 122,
   "id": "ecfbc1d1",
   "metadata": {},
   "outputs": [],
   "source": [
    "clf = DecisionTreeClassifier()"
   ]
  },
  {
   "cell_type": "code",
   "execution_count": 123,
   "id": "2e207264",
   "metadata": {},
   "outputs": [
    {
     "data": {
      "text/plain": [
       "DecisionTreeClassifier()"
      ]
     },
     "execution_count": 123,
     "metadata": {},
     "output_type": "execute_result"
    }
   ],
   "source": [
    "clf.fit(x_train_final, y_train)"
   ]
  },
  {
   "cell_type": "code",
   "execution_count": 126,
   "id": "c2523f01",
   "metadata": {},
   "outputs": [],
   "source": [
    "y_pred = clf.predict(x_test_final)"
   ]
  },
  {
   "cell_type": "code",
   "execution_count": 127,
   "id": "18cdead2",
   "metadata": {},
   "outputs": [
    {
     "data": {
      "text/plain": [
       "0.0"
      ]
     },
     "execution_count": 127,
     "metadata": {},
     "output_type": "execute_result"
    }
   ],
   "source": [
    "accuracy_score(y_test, y_pred)"
   ]
  },
  {
   "cell_type": "code",
   "execution_count": 177,
   "id": "e9415248",
   "metadata": {},
   "outputs": [
    {
     "data": {
      "text/plain": [
       "Text(0.5, 1.0, 'After')"
      ]
     },
     "execution_count": 177,
     "metadata": {},
     "output_type": "execute_result"
    },
    {
     "data": {
      "image/png": "[encoded data removed]",
      "text/plain": [
       "<Figure size 1008x288 with 2 Axes>"
      ]
     },
     "metadata": {
      "needs_background": "light"
     },
     "output_type": "display_data"
    }
   ],
   "source": [
    "import matplotlib.pyplot as plt\n",
    "\n",
    "plt.figure(figsize=(14,4))\n",
    "plt.subplot(121)\n",
    "plt.hist(x_train['Area'])\n",
    "plt.title('Before')\n",
    "\n",
    "plt.subplot(122)\n",
    "plt.hist(x_train_final['Area'], color='red')\n",
    "plt.title('After')"
   ]
  },
  {
   "cell_type": "markdown",
   "id": "1788776f",
   "metadata": {},
   "source": [
    "### Try Uniform"
   ]
  },
  {
   "cell_type": "code",
   "execution_count": 180,
   "id": "cdb89921",
   "metadata": {},
   "outputs": [],
   "source": [
    "# Create the ColumnTransformer\n",
    "preprocessor = ColumnTransformer(\n",
    "    transformers=[\n",
    "        ('numeric', KBinsDiscretizer(n_bins=10, encode='ordinal', strategy='uniform'), numeric_features)\n",
    "        \n",
    "    ])"
   ]
  },
  {
   "cell_type": "code",
   "execution_count": 186,
   "id": "c0a23012",
   "metadata": {},
   "outputs": [],
   "source": [
    "# Fit and transform the train set\n",
    "x_train_transformed = preprocessor.fit_transform(x_train)\n",
    "x_test_transform = preprocessor.fit_transform(x_test)\n",
    "\n",
    "\n",
    "# Create new DataFrames for the transformed data\n",
    "x_train_final = pd.DataFrame(x_train_transformed, columns=numeric_features)\n",
    "x_test_final = pd.DataFrame(x_test_transform, columns=numeric_features)"
   ]
  },
  {
   "cell_type": "code",
   "execution_count": 187,
   "id": "fbcd15c5",
   "metadata": {},
   "outputs": [],
   "source": [
    "# Add a column with the range for each bin\n",
    "bins_range = preprocessor.named_transformers_['numeric'].bin_edges_\n",
    "\n",
    "\n",
    "range_column = pd.cut(x_train['Area'], \n",
    "                      bins=bins_range[0], labels=[f'({bins_range[0][i]}, {bins_range[0][i+1]})' for i in range(len(bins_range[0])-1)])\n"
   ]
  },
  {
   "cell_type": "code",
   "execution_count": 188,
   "id": "fb48fb72",
   "metadata": {},
   "outputs": [],
   "source": [
    "x_train_final['Range'] = range_column"
   ]
  },
  {
   "cell_type": "code",
   "execution_count": 189,
   "id": "94fbb988",
   "metadata": {},
   "outputs": [
    {
     "data": {
      "text/html": [
       "<div>\n",
       "<style scoped>\n",
       "    .dataframe tbody tr th:only-of-type {\n",
       "        vertical-align: middle;\n",
       "    }\n",
       "\n",
       "    .dataframe tbody tr th {\n",
       "        vertical-align: top;\n",
       "    }\n",
       "\n",
       "    .dataframe thead th {\n",
       "        text-align: right;\n",
       "    }\n",
       "</style>\n",
       "<table border=\"1\" class=\"dataframe\">\n",
       "  <thead>\n",
       "    <tr style=\"text-align: right;\">\n",
       "      <th></th>\n",
       "      <th>Area</th>\n",
       "      <th>GarageArea</th>\n",
       "      <th>Range</th>\n",
       "    </tr>\n",
       "  </thead>\n",
       "  <tbody>\n",
       "    <tr>\n",
       "      <th>0</th>\n",
       "      <td>1.0</td>\n",
       "      <td>3.0</td>\n",
       "      <td>(7087.200000000001, 8917.6)</td>\n",
       "    </tr>\n",
       "    <tr>\n",
       "      <th>1</th>\n",
       "      <td>4.0</td>\n",
       "      <td>6.0</td>\n",
       "      <td>(8917.6, 10748.0)</td>\n",
       "    </tr>\n",
       "    <tr>\n",
       "      <th>2</th>\n",
       "      <td>1.0</td>\n",
       "      <td>2.0</td>\n",
       "      <td>(10748.0, 12578.400000000001)</td>\n",
       "    </tr>\n",
       "    <tr>\n",
       "      <th>3</th>\n",
       "      <td>1.0</td>\n",
       "      <td>2.0</td>\n",
       "      <td>(8917.6, 10748.0)</td>\n",
       "    </tr>\n",
       "    <tr>\n",
       "      <th>4</th>\n",
       "      <td>1.0</td>\n",
       "      <td>2.0</td>\n",
       "      <td>(12578.400000000001, 14408.800000000001)</td>\n",
       "    </tr>\n",
       "  </tbody>\n",
       "</table>\n",
       "</div>"
      ],
      "text/plain": [
       "   Area  GarageArea                                     Range\n",
       "0   1.0         3.0               (7087.200000000001, 8917.6)\n",
       "1   4.0         6.0                         (8917.6, 10748.0)\n",
       "2   1.0         2.0             (10748.0, 12578.400000000001)\n",
       "3   1.0         2.0                         (8917.6, 10748.0)\n",
       "4   1.0         2.0  (12578.400000000001, 14408.800000000001)"
      ]
     },
     "execution_count": 189,
     "metadata": {},
     "output_type": "execute_result"
    }
   ],
   "source": [
    "x_train_final.head()"
   ]
  },
  {
   "cell_type": "code",
   "execution_count": 190,
   "id": "118f746b",
   "metadata": {},
   "outputs": [
    {
     "data": {
      "text/plain": [
       "Text(0.5, 1.0, 'After')"
      ]
     },
     "execution_count": 190,
     "metadata": {},
     "output_type": "execute_result"
    },
    {
     "data": {
      "image/png": "[encoded data removed]",
      "text/plain": [
       "<Figure size 1008x288 with 2 Axes>"
      ]
     },
     "metadata": {
      "needs_background": "light"
     },
     "output_type": "display_data"
    }
   ],
   "source": [
    "import matplotlib.pyplot as plt\n",
    "\n",
    "plt.figure(figsize=(14,4))\n",
    "plt.subplot(121)\n",
    "plt.hist(x_train['Area'])\n",
    "plt.title('Before')\n",
    "\n",
    "plt.subplot(122)\n",
    "plt.hist(x_train_final['Area'], color='red')\n",
    "plt.title('After')"
   ]
  },
  {
   "cell_type": "markdown",
   "id": "2e82703c",
   "metadata": {},
   "source": [
    "# Try KMeans"
   ]
  },
  {
   "cell_type": "code",
   "execution_count": 191,
   "id": "9c405d48",
   "metadata": {},
   "outputs": [],
   "source": [
    "# Create the ColumnTransformer\n",
    "preprocessor = ColumnTransformer(\n",
    "    transformers=[\n",
    "        ('numeric', KBinsDiscretizer(n_bins=10, encode='ordinal', strategy='kmeans'), numeric_features)\n",
    "        \n",
    "    ])"
   ]
  },
  {
   "cell_type": "code",
   "execution_count": 192,
   "id": "97775556",
   "metadata": {},
   "outputs": [
    {
     "name": "stderr",
     "output_type": "stream",
     "text": [
      "C:\\Users\\cefb8t\\Anaconda3\\lib\\site-packages\\sklearn\\cluster\\_kmeans.py:1036: UserWarning: KMeans is known to have a memory leak on Windows with MKL, when there are less chunks than available threads. You can avoid it by setting the environment variable OMP_NUM_THREADS=1.\n",
      "  warnings.warn(\n",
      "C:\\Users\\cefb8t\\Anaconda3\\lib\\site-packages\\sklearn\\cluster\\_kmeans.py:1036: UserWarning: KMeans is known to have a memory leak on Windows with MKL, when there are less chunks than available threads. You can avoid it by setting the environment variable OMP_NUM_THREADS=1.\n",
      "  warnings.warn(\n",
      "C:\\Users\\cefb8t\\Anaconda3\\lib\\site-packages\\sklearn\\cluster\\_kmeans.py:1036: UserWarning: KMeans is known to have a memory leak on Windows with MKL, when there are less chunks than available threads. You can avoid it by setting the environment variable OMP_NUM_THREADS=1.\n",
      "  warnings.warn(\n",
      "C:\\Users\\cefb8t\\Anaconda3\\lib\\site-packages\\sklearn\\cluster\\_kmeans.py:1036: UserWarning: KMeans is known to have a memory leak on Windows with MKL, when there are less chunks than available threads. You can avoid it by setting the environment variable OMP_NUM_THREADS=1.\n",
      "  warnings.warn(\n"
     ]
    }
   ],
   "source": [
    "# Fit and transform the train set\n",
    "x_train_transformed = preprocessor.fit_transform(x_train)\n",
    "x_test_transform = preprocessor.fit_transform(x_test)\n",
    "\n",
    "\n",
    "# Create new DataFrames for the transformed data\n",
    "x_train_final = pd.DataFrame(x_train_transformed, columns=numeric_features)\n",
    "x_test_final = pd.DataFrame(x_test_transform, columns=numeric_features)"
   ]
  },
  {
   "cell_type": "code",
   "execution_count": 193,
   "id": "8f0bb14e",
   "metadata": {},
   "outputs": [],
   "source": [
    "# Add a column with the range for each bin\n",
    "bins_range = preprocessor.named_transformers_['numeric'].bin_edges_\n",
    "\n",
    "\n",
    "range_column = pd.cut(x_train['Area'], \n",
    "                      bins=bins_range[0], labels=[f'({bins_range[0][i]}, {bins_range[0][i+1]})' for i in range(len(bins_range[0])-1)])\n"
   ]
  },
  {
   "cell_type": "code",
   "execution_count": 194,
   "id": "d0ebb73c",
   "metadata": {},
   "outputs": [],
   "source": [
    "x_train_final['Range'] = range_column"
   ]
  },
  {
   "cell_type": "code",
   "execution_count": 195,
   "id": "da5fb836",
   "metadata": {},
   "outputs": [
    {
     "data": {
      "text/html": [
       "<div>\n",
       "<style scoped>\n",
       "    .dataframe tbody tr th:only-of-type {\n",
       "        vertical-align: middle;\n",
       "    }\n",
       "\n",
       "    .dataframe tbody tr th {\n",
       "        vertical-align: top;\n",
       "    }\n",
       "\n",
       "    .dataframe thead th {\n",
       "        text-align: right;\n",
       "    }\n",
       "</style>\n",
       "<table border=\"1\" class=\"dataframe\">\n",
       "  <thead>\n",
       "    <tr style=\"text-align: right;\">\n",
       "      <th></th>\n",
       "      <th>Area</th>\n",
       "      <th>GarageArea</th>\n",
       "      <th>Range</th>\n",
       "    </tr>\n",
       "  </thead>\n",
       "  <tbody>\n",
       "    <tr>\n",
       "      <th>0</th>\n",
       "      <td>3.0</td>\n",
       "      <td>4.0</td>\n",
       "      <td>(6950.95, 8948.631818181817)</td>\n",
       "    </tr>\n",
       "    <tr>\n",
       "      <th>1</th>\n",
       "      <td>7.0</td>\n",
       "      <td>7.0</td>\n",
       "      <td>(8948.631818181817, 11011.381818181817)</td>\n",
       "    </tr>\n",
       "    <tr>\n",
       "      <th>2</th>\n",
       "      <td>2.0</td>\n",
       "      <td>2.0</td>\n",
       "      <td>(11011.381818181817, 12699.866666666665)</td>\n",
       "    </tr>\n",
       "    <tr>\n",
       "      <th>3</th>\n",
       "      <td>2.0</td>\n",
       "      <td>2.0</td>\n",
       "      <td>(8948.631818181817, 11011.381818181817)</td>\n",
       "    </tr>\n",
       "    <tr>\n",
       "      <th>4</th>\n",
       "      <td>3.0</td>\n",
       "      <td>2.0</td>\n",
       "      <td>(12699.866666666665, 14335.166666666666)</td>\n",
       "    </tr>\n",
       "  </tbody>\n",
       "</table>\n",
       "</div>"
      ],
      "text/plain": [
       "   Area  GarageArea                                     Range\n",
       "0   3.0         4.0              (6950.95, 8948.631818181817)\n",
       "1   7.0         7.0   (8948.631818181817, 11011.381818181817)\n",
       "2   2.0         2.0  (11011.381818181817, 12699.866666666665)\n",
       "3   2.0         2.0   (8948.631818181817, 11011.381818181817)\n",
       "4   3.0         2.0  (12699.866666666665, 14335.166666666666)"
      ]
     },
     "execution_count": 195,
     "metadata": {},
     "output_type": "execute_result"
    }
   ],
   "source": [
    "x_train_final.head()"
   ]
  },
  {
   "cell_type": "code",
   "execution_count": 196,
   "id": "b3ab4c2f",
   "metadata": {},
   "outputs": [
    {
     "data": {
      "text/plain": [
       "Text(0.5, 1.0, 'After')"
      ]
     },
     "execution_count": 196,
     "metadata": {},
     "output_type": "execute_result"
    },
    {
     "data": {
      "image/png": "[encoded data removed]",
      "text/plain": [
       "<Figure size 1008x288 with 2 Axes>"
      ]
     },
     "metadata": {
      "needs_background": "light"
     },
     "output_type": "display_data"
    }
   ],
   "source": [
    "import matplotlib.pyplot as plt\n",
    "\n",
    "plt.figure(figsize=(14,4))\n",
    "plt.subplot(121)\n",
    "plt.hist(x_train['Area'])\n",
    "plt.title('Before')\n",
    "\n",
    "plt.subplot(122)\n",
    "plt.hist(x_train_final['Area'], color='red')\n",
    "plt.title('After')"
   ]
  },
  {
   "cell_type": "code",
   "execution_count": null,
   "id": "810c94af",
   "metadata": {},
   "outputs": [],
   "source": []
  }
 ],
 "metadata": {
  "kernelspec": {
   "display_name": "Python 3 (ipykernel)",
   "language": "python",
   "name": "python3"
  },
  "language_info": {
   "codemirror_mode": {
    "name": "ipython",
    "version": 3
   },
   "file_extension": ".py",
   "mimetype": "text/x-python",
   "name": "python",
   "nbconvert_exporter": "python",
   "pygments_lexer": "ipython3",
   "version": "3.9.12"
  }
 },
 "nbformat": 4,
 "nbformat_minor": 5
}
