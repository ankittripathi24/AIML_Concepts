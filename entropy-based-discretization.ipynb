{
 "cells": [
  {
   "cell_type": "markdown",
   "id": "eb481425",
   "metadata": {},
   "source": [
    "# Definition"
   ]
  },
  {
   "cell_type": "markdown",
   "id": "55265f56",
   "metadata": {},
   "source": [
    "Entropy. \n",
    "It's also called Expected Information. \n",
    "That's what we call this value which essentially describes how consistently a potential split will match up with a classifier."
   ]
  },
  {
   "cell_type": "raw",
   "id": "960cbb63",
   "metadata": {},
   "source": [
    "Formula:\n",
    "    Entropy (Dl) = — (sum of all i=1 to i = m) Pi * log2(Pi)"
   ]
  },
  {
   "cell_type": "markdown",
   "id": "f2878858",
   "metadata": {},
   "source": [
    "where m is the number of classifier values we have. \n",
    "In this case, m is 2 because we have 2 options: income <=50K and income >50K."
   ]
  },
  {
   "cell_type": "markdown",
   "id": "279f38f4",
   "metadata": {},
   "source": [
    "the p value. This is the probability of getting a specific classifier given the bin you're looking at. \n",
    "So if you have 10 rows of data, and 5 of them fall under income <=50, the probability of that would be 5/10 or 1/2. You can just count."
   ]
  },
  {
   "cell_type": "raw",
   "id": "7a0b1897",
   "metadata": {},
   "source": [
    "*Entropy Gain: *\n",
    "The Foundation of Discretization\n",
    "At a broad level, entropy-based discretization performs the following algorithm:\n",
    "\n",
    "Calculate Entropy for your data. For each potential split in your data...\n",
    "Calculate Entropy in each potential bin Find the net entropy for your split\n",
    "Calculate entropy gain Select the split with the highest entropy gain\n",
    "Recursively (or iteratively in some cases) perform the partition on each split until a termination criteria is met\n",
    "Terminate once you reach a specified number of bins\n",
    "Terminate once entropy gain falls below a certain threshold."
   ]
  },
  {
   "cell_type": "code",
   "execution_count": null,
   "id": "58a85526",
   "metadata": {},
   "outputs": [],
   "source": []
  },
  {
   "cell_type": "markdown",
   "id": "d8df9458",
   "metadata": {},
   "source": [
    "# Demostrate"
   ]
  },
  {
   "cell_type": "code",
   "execution_count": 2,
   "id": "fac6b5dd",
   "metadata": {},
   "outputs": [],
   "source": [
    "import pandas as pd\n",
    "import numpy as np"
   ]
  },
  {
   "cell_type": "code",
   "execution_count": 3,
   "id": "b45ca350",
   "metadata": {},
   "outputs": [],
   "source": [
    "df = pd.read_csv(\"data.csv\")"
   ]
  },
  {
   "cell_type": "code",
   "execution_count": 4,
   "id": "be1812ae",
   "metadata": {},
   "outputs": [
    {
     "data": {
      "text/html": [
       "<div>\n",
       "<style scoped>\n",
       "    .dataframe tbody tr th:only-of-type {\n",
       "        vertical-align: middle;\n",
       "    }\n",
       "\n",
       "    .dataframe tbody tr th {\n",
       "        vertical-align: top;\n",
       "    }\n",
       "\n",
       "    .dataframe thead th {\n",
       "        text-align: right;\n",
       "    }\n",
       "</style>\n",
       "<table border=\"1\" class=\"dataframe\">\n",
       "  <thead>\n",
       "    <tr style=\"text-align: right;\">\n",
       "      <th></th>\n",
       "      <th>Id</th>\n",
       "      <th>Area</th>\n",
       "      <th>SaleCondition</th>\n",
       "      <th>GarageArea</th>\n",
       "      <th>HeatingQuality</th>\n",
       "      <th>SalePrice</th>\n",
       "    </tr>\n",
       "  </thead>\n",
       "  <tbody>\n",
       "    <tr>\n",
       "      <th>0</th>\n",
       "      <td>1</td>\n",
       "      <td>8450</td>\n",
       "      <td>Normal</td>\n",
       "      <td>548</td>\n",
       "      <td>Ex</td>\n",
       "      <td>208500</td>\n",
       "    </tr>\n",
       "    <tr>\n",
       "      <th>1</th>\n",
       "      <td>2</td>\n",
       "      <td>9600</td>\n",
       "      <td>Normal</td>\n",
       "      <td>460</td>\n",
       "      <td>Ex</td>\n",
       "      <td>181500</td>\n",
       "    </tr>\n",
       "    <tr>\n",
       "      <th>2</th>\n",
       "      <td>3</td>\n",
       "      <td>11250</td>\n",
       "      <td>Normal</td>\n",
       "      <td>608</td>\n",
       "      <td>Ex</td>\n",
       "      <td>223500</td>\n",
       "    </tr>\n",
       "    <tr>\n",
       "      <th>3</th>\n",
       "      <td>4</td>\n",
       "      <td>9550</td>\n",
       "      <td>NotNormal</td>\n",
       "      <td>642</td>\n",
       "      <td>Gd</td>\n",
       "      <td>140000</td>\n",
       "    </tr>\n",
       "    <tr>\n",
       "      <th>4</th>\n",
       "      <td>5</td>\n",
       "      <td>14260</td>\n",
       "      <td>Normal</td>\n",
       "      <td>836</td>\n",
       "      <td>Ex</td>\n",
       "      <td>250000</td>\n",
       "    </tr>\n",
       "  </tbody>\n",
       "</table>\n",
       "</div>"
      ],
      "text/plain": [
       "   Id   Area SaleCondition  GarageArea HeatingQuality  SalePrice\n",
       "0   1   8450        Normal         548             Ex     208500\n",
       "1   2   9600        Normal         460             Ex     181500\n",
       "2   3  11250        Normal         608             Ex     223500\n",
       "3   4   9550     NotNormal         642             Gd     140000\n",
       "4   5  14260        Normal         836             Ex     250000"
      ]
     },
     "execution_count": 4,
     "metadata": {},
     "output_type": "execute_result"
    }
   ],
   "source": [
    "df.head()"
   ]
  },
  {
   "cell_type": "markdown",
   "id": "764dd746",
   "metadata": {},
   "source": [
    "#### Binarization"
   ]
  },
  {
   "cell_type": "code",
   "execution_count": 5,
   "id": "f2e7292c",
   "metadata": {},
   "outputs": [],
   "source": [
    "x = df[['GarageArea', 'Area']]"
   ]
  },
  {
   "cell_type": "code",
   "execution_count": 6,
   "id": "1bcf1017",
   "metadata": {},
   "outputs": [
    {
     "data": {
      "text/html": [
       "<div>\n",
       "<style scoped>\n",
       "    .dataframe tbody tr th:only-of-type {\n",
       "        vertical-align: middle;\n",
       "    }\n",
       "\n",
       "    .dataframe tbody tr th {\n",
       "        vertical-align: top;\n",
       "    }\n",
       "\n",
       "    .dataframe thead th {\n",
       "        text-align: right;\n",
       "    }\n",
       "</style>\n",
       "<table border=\"1\" class=\"dataframe\">\n",
       "  <thead>\n",
       "    <tr style=\"text-align: right;\">\n",
       "      <th></th>\n",
       "      <th>GarageArea</th>\n",
       "      <th>Area</th>\n",
       "    </tr>\n",
       "  </thead>\n",
       "  <tbody>\n",
       "    <tr>\n",
       "      <th>0</th>\n",
       "      <td>548</td>\n",
       "      <td>8450</td>\n",
       "    </tr>\n",
       "    <tr>\n",
       "      <th>1</th>\n",
       "      <td>460</td>\n",
       "      <td>9600</td>\n",
       "    </tr>\n",
       "    <tr>\n",
       "      <th>2</th>\n",
       "      <td>608</td>\n",
       "      <td>11250</td>\n",
       "    </tr>\n",
       "    <tr>\n",
       "      <th>3</th>\n",
       "      <td>642</td>\n",
       "      <td>9550</td>\n",
       "    </tr>\n",
       "    <tr>\n",
       "      <th>4</th>\n",
       "      <td>836</td>\n",
       "      <td>14260</td>\n",
       "    </tr>\n",
       "  </tbody>\n",
       "</table>\n",
       "</div>"
      ],
      "text/plain": [
       "   GarageArea   Area\n",
       "0         548   8450\n",
       "1         460   9600\n",
       "2         608  11250\n",
       "3         642   9550\n",
       "4         836  14260"
      ]
     },
     "execution_count": 6,
     "metadata": {},
     "output_type": "execute_result"
    }
   ],
   "source": [
    "x.head()"
   ]
  },
  {
   "cell_type": "markdown",
   "id": "eb24f95c",
   "metadata": {},
   "source": [
    "#### My Binarization approach would be, if area > 10000, it is taxable (1), otherwise not (0)"
   ]
  },
  {
   "cell_type": "code",
   "execution_count": 7,
   "id": "acfee2cd",
   "metadata": {},
   "outputs": [],
   "source": [
    "from sklearn.preprocessing import Binarizer\n"
   ]
  },
  {
   "cell_type": "code",
   "execution_count": 8,
   "id": "537d03d9",
   "metadata": {},
   "outputs": [],
   "source": [
    "from sklearn.compose import ColumnTransformer"
   ]
  },
  {
   "cell_type": "code",
   "execution_count": 18,
   "id": "459b9009",
   "metadata": {},
   "outputs": [],
   "source": [
    "trf = ColumnTransformer([\n",
    "    ('taxable', Binarizer(threshold=10000, copy= False),['Area'])\n",
    "    ], remainder = 'passthrough'\n",
    ")"
   ]
  },
  {
   "cell_type": "code",
   "execution_count": 19,
   "id": "d0d84c7b",
   "metadata": {},
   "outputs": [],
   "source": [
    "x_transform = trf.fit_transform(x)"
   ]
  },
  {
   "cell_type": "code",
   "execution_count": 20,
   "id": "d8019e33",
   "metadata": {},
   "outputs": [
    {
     "data": {
      "text/html": [
       "<div>\n",
       "<style scoped>\n",
       "    .dataframe tbody tr th:only-of-type {\n",
       "        vertical-align: middle;\n",
       "    }\n",
       "\n",
       "    .dataframe tbody tr th {\n",
       "        vertical-align: top;\n",
       "    }\n",
       "\n",
       "    .dataframe thead th {\n",
       "        text-align: right;\n",
       "    }\n",
       "</style>\n",
       "<table border=\"1\" class=\"dataframe\">\n",
       "  <thead>\n",
       "    <tr style=\"text-align: right;\">\n",
       "      <th></th>\n",
       "      <th>taxable</th>\n",
       "      <th>GarageArea</th>\n",
       "    </tr>\n",
       "  </thead>\n",
       "  <tbody>\n",
       "    <tr>\n",
       "      <th>0</th>\n",
       "      <td>0</td>\n",
       "      <td>548</td>\n",
       "    </tr>\n",
       "    <tr>\n",
       "      <th>1</th>\n",
       "      <td>0</td>\n",
       "      <td>460</td>\n",
       "    </tr>\n",
       "    <tr>\n",
       "      <th>2</th>\n",
       "      <td>1</td>\n",
       "      <td>608</td>\n",
       "    </tr>\n",
       "    <tr>\n",
       "      <th>3</th>\n",
       "      <td>0</td>\n",
       "      <td>642</td>\n",
       "    </tr>\n",
       "    <tr>\n",
       "      <th>4</th>\n",
       "      <td>1</td>\n",
       "      <td>836</td>\n",
       "    </tr>\n",
       "    <tr>\n",
       "      <th>...</th>\n",
       "      <td>...</td>\n",
       "      <td>...</td>\n",
       "    </tr>\n",
       "    <tr>\n",
       "      <th>195</th>\n",
       "      <td>0</td>\n",
       "      <td>440</td>\n",
       "    </tr>\n",
       "    <tr>\n",
       "      <th>196</th>\n",
       "      <td>0</td>\n",
       "      <td>786</td>\n",
       "    </tr>\n",
       "    <tr>\n",
       "      <th>197</th>\n",
       "      <td>1</td>\n",
       "      <td>795</td>\n",
       "    </tr>\n",
       "    <tr>\n",
       "      <th>198</th>\n",
       "      <td>0</td>\n",
       "      <td>0</td>\n",
       "    </tr>\n",
       "    <tr>\n",
       "      <th>199</th>\n",
       "      <td>0</td>\n",
       "      <td>456</td>\n",
       "    </tr>\n",
       "  </tbody>\n",
       "</table>\n",
       "<p>200 rows × 2 columns</p>\n",
       "</div>"
      ],
      "text/plain": [
       "     taxable  GarageArea\n",
       "0          0         548\n",
       "1          0         460\n",
       "2          1         608\n",
       "3          0         642\n",
       "4          1         836\n",
       "..       ...         ...\n",
       "195        0         440\n",
       "196        0         786\n",
       "197        1         795\n",
       "198        0           0\n",
       "199        0         456\n",
       "\n",
       "[200 rows x 2 columns]"
      ]
     },
     "execution_count": 20,
     "metadata": {},
     "output_type": "execute_result"
    }
   ],
   "source": [
    "pd.DataFrame(x_transform, columns= ['taxable', 'GarageArea'])"
   ]
  },
  {
   "cell_type": "code",
   "execution_count": null,
   "id": "4c7caea8",
   "metadata": {},
   "outputs": [],
   "source": []
  }
 ],
 "metadata": {
  "kernelspec": {
   "display_name": "Python 3 (ipykernel)",
   "language": "python",
   "name": "python3"
  },
  "language_info": {
   "codemirror_mode": {
    "name": "ipython",
    "version": 3
   },
   "file_extension": ".py",
   "mimetype": "text/x-python",
   "name": "python",
   "nbconvert_exporter": "python",
   "pygments_lexer": "ipython3",
   "version": "3.9.12"
  }
 },
 "nbformat": 4,
 "nbformat_minor": 5
}
